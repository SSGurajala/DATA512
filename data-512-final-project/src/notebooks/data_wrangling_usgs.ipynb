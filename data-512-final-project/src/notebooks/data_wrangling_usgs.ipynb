{
 "cells": [
  {
   "cell_type": "markdown",
   "metadata": {},
   "source": [
    "# Data Wrangling USGS\n",
    "## Sid Gurajala\n",
    "## Last Updated: 11/18/2024"
   ]
  },
  {
   "cell_type": "markdown",
   "metadata": {},
   "source": [
    "### Import Libraries/Read in Files"
   ]
  },
  {
   "cell_type": "code",
   "execution_count": 1,
   "metadata": {},
   "outputs": [],
   "source": [
    "import json \n",
    "import os\n",
    "import pandas as pd \n",
    "import re as re\n",
    "\n",
    "cwd = os.getcwd()\n",
    "data_dir = os.path.join(cwd, \"../../data/\")"
   ]
  },
  {
   "cell_type": "code",
   "execution_count": 2,
   "metadata": {},
   "outputs": [],
   "source": [
    "#open files\n",
    "fire_json_file_path = os.path.join(data_dir + \"raw/USGS_Wildland_Fire_Combined_Dataset_filtered.json\")\n",
    "with open(fire_json_file_path, \"r\") as file:\n",
    "    fire_json = json.load(file)"
   ]
  },
  {
   "cell_type": "markdown",
   "metadata": {},
   "source": [
    "### Filter Fire JSON file"
   ]
  },
  {
   "cell_type": "markdown",
   "metadata": {},
   "source": [
    "We need to restrict the distance from dearborn, michigan and also check for the month of the fire. We will also restrict for the years between 1980 and 2021 since this is what we have data for from the GBD."
   ]
  },
  {
   "cell_type": "code",
   "execution_count": 3,
   "metadata": {},
   "outputs": [],
   "source": [
    "fire_dataframes = []\n",
    "#Pattern to look for\n",
    "regex = r\"Listed Wildfire Discovery Date\\(s\\): (\\d{4})-(0[5-9]|10|11|12)-(0[1-9]|[12][0-9]|3[01])\\s\"\n",
    "#filter \n",
    "for fire in fire_json:\n",
    "    if fire[\"Distance_to_DearbornMI\"] <= 650 and re.search(regex, fire[\"Listed_Fire_Dates\"]) and fire['Fire_Year'] >= 1980 and fire['Fire_Year'] <= 2021:\n",
    "        fire_df = pd.DataFrame({\"FireType\" : [fire['Assigned_Fire_Type']],\n",
    "                                \"Year\" : [fire['Fire_Year']],\n",
    "                                \"Acreage\" : [fire[\"GIS_Acres\"]],\n",
    "                                \"Distance_to_Dearborn\" : [fire[\"Distance_to_DearbornMI\"]]})\n",
    "        fire_dataframes.append(fire_df)\n",
    "#concatenate\n",
    "filtered_fire_df = pd.concat(fire_dataframes)"
   ]
  },
  {
   "cell_type": "markdown",
   "metadata": {},
   "source": [
    "### Write Out Data"
   ]
  },
  {
   "cell_type": "code",
   "execution_count": 6,
   "metadata": {},
   "outputs": [],
   "source": [
    "filtered_fire_df.to_csv(os.path.join(data_dir, \"final/USGS_wildfire_dearborn_filtered.csv\"), index = False)"
   ]
  }
 ],
 "metadata": {
  "kernelspec": {
   "display_name": "dev",
   "language": "python",
   "name": "python3"
  },
  "language_info": {
   "codemirror_mode": {
    "name": "ipython",
    "version": 3
   },
   "file_extension": ".py",
   "mimetype": "text/x-python",
   "name": "python",
   "nbconvert_exporter": "python",
   "pygments_lexer": "ipython3",
   "version": "3.9.10"
  }
 },
 "nbformat": 4,
 "nbformat_minor": 2
}
