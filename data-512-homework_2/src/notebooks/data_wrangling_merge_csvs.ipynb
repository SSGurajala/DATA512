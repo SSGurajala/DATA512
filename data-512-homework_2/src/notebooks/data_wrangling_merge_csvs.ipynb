{
 "cells": [
  {
   "cell_type": "markdown",
   "metadata": {},
   "source": [
    "# Data Wrangling: Merging Article Quality Scores With Population Counts"
   ]
  },
  {
   "cell_type": "markdown",
   "metadata": {},
   "source": [
    "To generate the final csv file for this project, we must merge the intermediate article quality score by revision id file, the politican by revision id file, the population by country and region file, and the politician by country file. This notebook goes through the steps required to merge and format these csv files."
   ]
  },
  {
   "cell_type": "markdown",
   "metadata": {},
   "source": [
    "## Step 1: Read in Files"
   ]
  },
  {
   "cell_type": "markdown",
   "metadata": {},
   "source": [
    "The following packages are required to import for this notebook:"
   ]
  },
  {
   "cell_type": "code",
   "execution_count": 2,
   "metadata": {},
   "outputs": [],
   "source": [
    "import pandas as pd"
   ]
  },
  {
   "cell_type": "code",
   "execution_count": 3,
   "metadata": {},
   "outputs": [],
   "source": [
    "population_by_country_region = pd.read_csv(\"../../data/intermediate/population_by_country_region_AUG.2024.csv\")\n",
    "politician_by_country = pd.read_csv(\"../../data/intermediate/politicians_by_country_AUG.2024.csv\")\n",
    "revision_id_by_article_quality = pd.read_csv(\"../../data/intermediate/politicians_by_revid_article_score_OCT.2024.csv\")\n",
    "politician_by_revision_id = pd.read_csv(\"../../data/intermediate/politicians_by_revid_OCT.2024.csv\")"
   ]
  },
  {
   "cell_type": "code",
   "execution_count": 4,
   "metadata": {},
   "outputs": [],
   "source": [
    "revision_id_by_article_quality = revision_id_by_article_quality.drop('Unnamed: 0', axis = 1)\n",
    "population_by_country_region = population_by_country_region.drop('Unnamed: 0', axis = 1)"
   ]
  },
  {
   "cell_type": "markdown",
   "metadata": {},
   "source": [
    "## Step 2: Finding the Revision ID by Article Title"
   ]
  },
  {
   "cell_type": "markdown",
   "metadata": {},
   "source": [
    "Here, we seek to unify the revision_id_by_article_quality file with the politician_by_revision_id file to match article titles with revision ids and article quality. Since there are non unique revision IDs (one politician corresponding to multiple countries), we deduplicate these before joining."
   ]
  },
  {
   "cell_type": "code",
   "execution_count": 5,
   "metadata": {},
   "outputs": [],
   "source": [
    "#filter to revids found in article quality and drop duplicates\n",
    "politician_by_revision_id = politician_by_revision_id[politician_by_revision_id.revision_id.isin(revision_id_by_article_quality.revision_id)].drop_duplicates()\n",
    "#drop duplicates\n",
    "revision_id_by_article_quality = revision_id_by_article_quality.drop_duplicates()"
   ]
  },
  {
   "cell_type": "code",
   "execution_count": 6,
   "metadata": {},
   "outputs": [],
   "source": [
    "#merge the two dataframes on revision id\n",
    "article_title_by_revision_id = pd.merge(left = politician_by_revision_id, \n",
    "                                        right = revision_id_by_article_quality, \n",
    "                                        how = \"left\",\n",
    "                                        on = \"revision_id\")"
   ]
  },
  {
   "cell_type": "markdown",
   "metadata": {},
   "source": [
    "## Step 3: Finding the Country for A Given Politician and Revision ID"
   ]
  },
  {
   "cell_type": "markdown",
   "metadata": {},
   "source": [
    "Next, we have to join the article_title_by_revision_id file with the politicians by country, so we can get the countries corresponding to an article title, revision id, and article quality."
   ]
  },
  {
   "cell_type": "code",
   "execution_count": 7,
   "metadata": {},
   "outputs": [],
   "source": [
    "#url not required in final csv\n",
    "politician_by_country = politician_by_country.drop(\"url\", axis = 1)\n",
    "#rename columns for merge\n",
    "politician_by_country.columns = [\"article_title\", \"country\"]"
   ]
  },
  {
   "cell_type": "code",
   "execution_count": 8,
   "metadata": {},
   "outputs": [],
   "source": [
    "#merge the two dataframes on article title\n",
    "#account for article title having multiple countries by left join with politician first\n",
    "article_title_by_revision_id_country = pd.merge(left = politician_by_country, \n",
    "                                                right = article_title_by_revision_id, \n",
    "                                                how = \"left\",\n",
    "                                                on = \"article_title\")"
   ]
  },
  {
   "cell_type": "markdown",
   "metadata": {},
   "source": [
    "## Step 4: Merging on Country to Find Regions"
   ]
  },
  {
   "cell_type": "markdown",
   "metadata": {},
   "source": [
    "Finally, we merge on country to get population and region estimates for each article. First we rename the population by country region table to match the join id needed and the final column name in the output csv."
   ]
  },
  {
   "cell_type": "code",
   "execution_count": 9,
   "metadata": {},
   "outputs": [],
   "source": [
    "#rename columns\n",
    "population_by_country_region.columns = [\"country\", \"population\", \"region\"]"
   ]
  },
  {
   "cell_type": "markdown",
   "metadata": {},
   "source": [
    "Next we identify the superset of countries, so we can compare the final list of mapped countries and identify which are missing after the join."
   ]
  },
  {
   "cell_type": "code",
   "execution_count": 10,
   "metadata": {},
   "outputs": [],
   "source": [
    "#find unique country list for each table\n",
    "article_title_countries = list(set(article_title_by_revision_id_country.country.tolist()))\n",
    "population_countries = list(set(population_by_country_region.country.tolist()))\n",
    "#find superset of unique countries across tables\n",
    "all_country_set = list(set(article_title_countries + population_countries))"
   ]
  },
  {
   "cell_type": "markdown",
   "metadata": {},
   "source": [
    "We merge the two tables on country, and only preserve the records shared across the two tables with an inner join. We save this output csv as requested by the document."
   ]
  },
  {
   "cell_type": "code",
   "execution_count": 11,
   "metadata": {},
   "outputs": [],
   "source": [
    "#merge the two dataframes on article title\n",
    "#inner join to preserve only records which match across both\n",
    "wp_politicians_by_country = pd.merge(left = article_title_by_revision_id_country, \n",
    "                                    right = population_by_country_region, \n",
    "                                    how = \"inner\",\n",
    "                                    on = \"country\")\n",
    "wp_politicians_by_country.to_csv(\"../../data/final/wp_politicians_by_country.csv\", index = False)"
   ]
  },
  {
   "cell_type": "markdown",
   "metadata": {},
   "source": [
    "Now we write out the countries which have no match."
   ]
  },
  {
   "cell_type": "code",
   "execution_count": 12,
   "metadata": {},
   "outputs": [],
   "source": [
    "#List of final countries\n",
    "final_country_list = list(set(wp_politicians_by_country.country.tolist()))\n",
    "#List of countries with no match\n",
    "no_match_list = []\n",
    "for country in all_country_set:\n",
    "    if country not in final_country_list:\n",
    "        no_match_list.append(country)\n",
    "#write out file \n",
    "with open(\"../../data/final/wp_countries-no_match.txt\", \"w\") as file:\n",
    "    for country in no_match_list:\n",
    "        file.write(f\"{country}\\n\")"
   ]
  }
 ],
 "metadata": {
  "kernelspec": {
   "display_name": "dev",
   "language": "python",
   "name": "python3"
  },
  "language_info": {
   "codemirror_mode": {
    "name": "ipython",
    "version": 3
   },
   "file_extension": ".py",
   "mimetype": "text/x-python",
   "name": "python",
   "nbconvert_exporter": "python",
   "pygments_lexer": "ipython3",
   "version": "3.9.10"
  }
 },
 "nbformat": 4,
 "nbformat_minor": 2
}
