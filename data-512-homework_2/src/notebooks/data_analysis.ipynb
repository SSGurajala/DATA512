{
 "cells": [
  {
   "cell_type": "markdown",
   "metadata": {},
   "source": [
    "# Data Analysis: Wikimedia Article Quality Data"
   ]
  },
  {
   "cell_type": "markdown",
   "metadata": {},
   "source": [
    "This notebook takes the final output from `data_wrangling_merge_csvs.ipynb` and performs required analyses on this file, outputting results in tabular format."
   ]
  },
  {
   "cell_type": "markdown",
   "metadata": {},
   "source": [
    "# First Step: Read in Files"
   ]
  },
  {
   "cell_type": "markdown",
   "metadata": {},
   "source": [
    "The following packages are required for this notebook:"
   ]
  },
  {
   "cell_type": "code",
   "execution_count": 8,
   "metadata": {},
   "outputs": [],
   "source": [
    "import pandas as pd\n",
    "from IPython.display import display"
   ]
  },
  {
   "cell_type": "markdown",
   "metadata": {},
   "source": [
    "Now we read in the file."
   ]
  },
  {
   "cell_type": "code",
   "execution_count": 2,
   "metadata": {},
   "outputs": [],
   "source": [
    "wp_politicians_by_country = pd.read_csv(\"../../data/final/wp_politicians_by_country.csv\")"
   ]
  },
  {
   "cell_type": "markdown",
   "metadata": {},
   "source": [
    "# ANALYSIS 1: Top 10 Countries By Coverage"
   ]
  },
  {
   "cell_type": "markdown",
   "metadata": {},
   "source": [
    "First we group by country and find the total article count to identify coverage"
   ]
  },
  {
   "cell_type": "code",
   "execution_count": 13,
   "metadata": {},
   "outputs": [],
   "source": [
    "#group by country and find number of articles\n",
    "article_coverage_df = wp_politicians_by_country.groupby('country').agg(article_count = ('country', 'size'),\n",
    "                                                                       population = ('population', 'mean'),\n",
    "                                                                       region = ('region', 'first')).reset_index()"
   ]
  },
  {
   "cell_type": "markdown",
   "metadata": {},
   "source": [
    "Next, we filter the coverage dataframe to find the top 10 article counts, and display the dataframe in the jupyter notebook"
   ]
  },
  {
   "cell_type": "code",
   "execution_count": 14,
   "metadata": {},
   "outputs": [
    {
     "data": {
      "text/html": [
       "<style type=\"text/css\">\n",
       "</style>\n",
       "<table id=\"T_541fb\">\n",
       "  <thead>\n",
       "    <tr>\n",
       "      <th class=\"blank level0\" >&nbsp;</th>\n",
       "      <th id=\"T_541fb_level0_col0\" class=\"col_heading level0 col0\" >country</th>\n",
       "      <th id=\"T_541fb_level0_col1\" class=\"col_heading level0 col1\" >article_count</th>\n",
       "      <th id=\"T_541fb_level0_col2\" class=\"col_heading level0 col2\" >population</th>\n",
       "      <th id=\"T_541fb_level0_col3\" class=\"col_heading level0 col3\" >region</th>\n",
       "    </tr>\n",
       "  </thead>\n",
       "  <tbody>\n",
       "    <tr>\n",
       "      <th id=\"T_541fb_level0_row0\" class=\"row_heading level0 row0\" >106</th>\n",
       "      <td id=\"T_541fb_row0_col0\" class=\"data row0 col0\" >Nigeria</td>\n",
       "      <td id=\"T_541fb_row0_col1\" class=\"data row0 col1\" >246</td>\n",
       "      <td id=\"T_541fb_row0_col2\" class=\"data row0 col2\" >223.800000</td>\n",
       "      <td id=\"T_541fb_row0_col3\" class=\"data row0 col3\" >WESTERN AFRICA</td>\n",
       "    </tr>\n",
       "    <tr>\n",
       "      <th id=\"T_541fb_level0_row1\" class=\"row_heading level0 row1\" >116</th>\n",
       "      <td id=\"T_541fb_row1_col0\" class=\"data row1 col0\" >Poland</td>\n",
       "      <td id=\"T_541fb_row1_col1\" class=\"data row1 col1\" >159</td>\n",
       "      <td id=\"T_541fb_row1_col2\" class=\"data row1 col2\" >37.700000</td>\n",
       "      <td id=\"T_541fb_row1_col3\" class=\"data row1 col3\" >EASTERN EUROPE</td>\n",
       "    </tr>\n",
       "    <tr>\n",
       "      <th id=\"T_541fb_level0_row2\" class=\"row_heading level0 row2\" >66</th>\n",
       "      <td id=\"T_541fb_row2_col0\" class=\"data row2 col0\" >India</td>\n",
       "      <td id=\"T_541fb_row2_col1\" class=\"data row2 col1\" >151</td>\n",
       "      <td id=\"T_541fb_row2_col2\" class=\"data row2 col2\" >1428.600000</td>\n",
       "      <td id=\"T_541fb_row2_col3\" class=\"data row2 col3\" >SOUTH ASIA</td>\n",
       "    </tr>\n",
       "    <tr>\n",
       "      <th id=\"T_541fb_level0_row3\" class=\"row_heading level0 row3\" >71</th>\n",
       "      <td id=\"T_541fb_row3_col0\" class=\"data row3 col0\" >Italy</td>\n",
       "      <td id=\"T_541fb_row3_col1\" class=\"data row3 col1\" >148</td>\n",
       "      <td id=\"T_541fb_row3_col2\" class=\"data row3 col2\" >58.800000</td>\n",
       "      <td id=\"T_541fb_row3_col3\" class=\"data row3 col3\" >SOUTHERN EUROPE</td>\n",
       "    </tr>\n",
       "    <tr>\n",
       "      <th id=\"T_541fb_level0_row4\" class=\"row_heading level0 row4\" >134</th>\n",
       "      <td id=\"T_541fb_row4_col0\" class=\"data row4 col0\" >Spain</td>\n",
       "      <td id=\"T_541fb_row4_col1\" class=\"data row4 col1\" >137</td>\n",
       "      <td id=\"T_541fb_row4_col2\" class=\"data row4 col2\" >48.300000</td>\n",
       "      <td id=\"T_541fb_row4_col3\" class=\"data row4 col3\" >SOUTHERN EUROPE</td>\n",
       "    </tr>\n",
       "    <tr>\n",
       "      <th id=\"T_541fb_level0_row5\" class=\"row_heading level0 row5\" >75</th>\n",
       "      <td id=\"T_541fb_row5_col0\" class=\"data row5 col0\" >Kenya</td>\n",
       "      <td id=\"T_541fb_row5_col1\" class=\"data row5 col1\" >125</td>\n",
       "      <td id=\"T_541fb_row5_col2\" class=\"data row5 col2\" >55.100000</td>\n",
       "      <td id=\"T_541fb_row5_col3\" class=\"data row5 col3\" >EASTERN AFRICA</td>\n",
       "    </tr>\n",
       "    <tr>\n",
       "      <th id=\"T_541fb_level0_row6\" class=\"row_heading level0 row6\" >53</th>\n",
       "      <td id=\"T_541fb_row6_col0\" class=\"data row6 col0\" >France</td>\n",
       "      <td id=\"T_541fb_row6_col1\" class=\"data row6 col1\" >119</td>\n",
       "      <td id=\"T_541fb_row6_col2\" class=\"data row6 col2\" >65.900000</td>\n",
       "      <td id=\"T_541fb_row6_col3\" class=\"data row6 col3\" >WESTERN EUROPE</td>\n",
       "    </tr>\n",
       "    <tr>\n",
       "      <th id=\"T_541fb_level0_row7\" class=\"row_heading level0 row7\" >119</th>\n",
       "      <td id=\"T_541fb_row7_col0\" class=\"data row7 col0\" >Russia</td>\n",
       "      <td id=\"T_541fb_row7_col1\" class=\"data row7 col1\" >119</td>\n",
       "      <td id=\"T_541fb_row7_col2\" class=\"data row7 col2\" >146.900000</td>\n",
       "      <td id=\"T_541fb_row7_col3\" class=\"data row7 col3\" >EASTERN EUROPE</td>\n",
       "    </tr>\n",
       "    <tr>\n",
       "      <th id=\"T_541fb_level0_row8\" class=\"row_heading level0 row8\" >72</th>\n",
       "      <td id=\"T_541fb_row8_col0\" class=\"data row8 col0\" >Japan</td>\n",
       "      <td id=\"T_541fb_row8_col1\" class=\"data row8 col1\" >117</td>\n",
       "      <td id=\"T_541fb_row8_col2\" class=\"data row8 col2\" >124.500000</td>\n",
       "      <td id=\"T_541fb_row8_col3\" class=\"data row8 col3\" >EAST ASIA</td>\n",
       "    </tr>\n",
       "    <tr>\n",
       "      <th id=\"T_541fb_level0_row9\" class=\"row_heading level0 row9\" >67</th>\n",
       "      <td id=\"T_541fb_row9_col0\" class=\"data row9 col0\" >Indonesia</td>\n",
       "      <td id=\"T_541fb_row9_col1\" class=\"data row9 col1\" >113</td>\n",
       "      <td id=\"T_541fb_row9_col2\" class=\"data row9 col2\" >278.700000</td>\n",
       "      <td id=\"T_541fb_row9_col3\" class=\"data row9 col3\" >SOUTHEAST ASIA</td>\n",
       "    </tr>\n",
       "  </tbody>\n",
       "</table>\n"
      ],
      "text/plain": [
       "<pandas.io.formats.style.Styler at 0x119a7a610>"
      ]
     },
     "metadata": {},
     "output_type": "display_data"
    }
   ],
   "source": [
    "#Sort input dataframe, pick top 10, and remove index\n",
    "top10_article_coverage = article_coverage_df.sort_values(\"article_count\", ascending = False)[0:10]\n",
    "#display the dataframe\n",
    "display(top10_article_coverage.style)"
   ]
  },
  {
   "cell_type": "markdown",
   "metadata": {},
   "source": [
    "# ANALYSIS 2: Bottom 10 Countries by Coverage"
   ]
  },
  {
   "cell_type": "markdown",
   "metadata": {},
   "source": [
    "We have already generated high quality article count by country. Therefore, we can use the previous dataframe, change the sort order, and display the dataframe."
   ]
  },
  {
   "cell_type": "code",
   "execution_count": 34,
   "metadata": {},
   "outputs": [
    {
     "data": {
      "text/html": [
       "<style type=\"text/css\">\n",
       "</style>\n",
       "<table id=\"T_d7d9b\">\n",
       "  <thead>\n",
       "    <tr>\n",
       "      <th class=\"blank level0\" >&nbsp;</th>\n",
       "      <th id=\"T_d7d9b_level0_col0\" class=\"col_heading level0 col0\" >country</th>\n",
       "      <th id=\"T_d7d9b_level0_col1\" class=\"col_heading level0 col1\" >article_count</th>\n",
       "      <th id=\"T_d7d9b_level0_col2\" class=\"col_heading level0 col2\" >population</th>\n",
       "      <th id=\"T_d7d9b_level0_col3\" class=\"col_heading level0 col3\" >region</th>\n",
       "    </tr>\n",
       "  </thead>\n",
       "  <tbody>\n",
       "    <tr>\n",
       "      <th id=\"T_d7d9b_level0_row0\" class=\"row_heading level0 row0\" >108</th>\n",
       "      <td id=\"T_d7d9b_row0_col0\" class=\"data row0 col0\" >Norway</td>\n",
       "      <td id=\"T_d7d9b_row0_col1\" class=\"data row0 col1\" >1</td>\n",
       "      <td id=\"T_d7d9b_row0_col2\" class=\"data row0 col2\" >5.500000</td>\n",
       "      <td id=\"T_d7d9b_row0_col3\" class=\"data row0 col3\" >NORTHERN EUROPE</td>\n",
       "    </tr>\n",
       "    <tr>\n",
       "      <th id=\"T_d7d9b_level0_row1\" class=\"row_heading level0 row1\" >92</th>\n",
       "      <td id=\"T_d7d9b_row1_col0\" class=\"data row1 col0\" >Malta</td>\n",
       "      <td id=\"T_d7d9b_row1_col1\" class=\"data row1 col1\" >1</td>\n",
       "      <td id=\"T_d7d9b_row1_col2\" class=\"data row1 col2\" >0.600000</td>\n",
       "      <td id=\"T_d7d9b_row1_col3\" class=\"data row1 col3\" >SOUTHERN EUROPE</td>\n",
       "    </tr>\n",
       "    <tr>\n",
       "      <th id=\"T_d7d9b_level0_row2\" class=\"row_heading level0 row2\" >154</th>\n",
       "      <td id=\"T_d7d9b_row2_col0\" class=\"data row2 col0\" >Tuvalu</td>\n",
       "      <td id=\"T_d7d9b_row2_col1\" class=\"data row2 col1\" >1</td>\n",
       "      <td id=\"T_d7d9b_row2_col2\" class=\"data row2 col2\" >0.000000</td>\n",
       "      <td id=\"T_d7d9b_row2_col3\" class=\"data row2 col3\" >OCEANIA</td>\n",
       "    </tr>\n",
       "    <tr>\n",
       "      <th id=\"T_d7d9b_level0_row3\" class=\"row_heading level0 row3\" >59</th>\n",
       "      <td id=\"T_d7d9b_row3_col0\" class=\"data row3 col0\" >Grenada</td>\n",
       "      <td id=\"T_d7d9b_row3_col1\" class=\"data row3 col1\" >2</td>\n",
       "      <td id=\"T_d7d9b_row3_col2\" class=\"data row3 col2\" >0.100000</td>\n",
       "      <td id=\"T_d7d9b_row3_col3\" class=\"data row3 col3\" >CARIBBEAN</td>\n",
       "    </tr>\n",
       "    <tr>\n",
       "      <th id=\"T_d7d9b_level0_row4\" class=\"row_heading level0 row4\" >70</th>\n",
       "      <td id=\"T_d7d9b_row4_col0\" class=\"data row4 col0\" >Israel</td>\n",
       "      <td id=\"T_d7d9b_row4_col1\" class=\"data row4 col1\" >2</td>\n",
       "      <td id=\"T_d7d9b_row4_col2\" class=\"data row4 col2\" >9.800000</td>\n",
       "      <td id=\"T_d7d9b_row4_col3\" class=\"data row4 col3\" >WESTERN ASIA</td>\n",
       "    </tr>\n",
       "    <tr>\n",
       "      <th id=\"T_d7d9b_level0_row5\" class=\"row_heading level0 row5\" >47</th>\n",
       "      <td id=\"T_d7d9b_row5_col0\" class=\"data row5 col0\" >Equatorial Guinea</td>\n",
       "      <td id=\"T_d7d9b_row5_col1\" class=\"data row5 col1\" >2</td>\n",
       "      <td id=\"T_d7d9b_row5_col2\" class=\"data row5 col2\" >1.700000</td>\n",
       "      <td id=\"T_d7d9b_row5_col3\" class=\"data row5 col3\" >MIDDLE AFRICA</td>\n",
       "    </tr>\n",
       "    <tr>\n",
       "      <th id=\"T_d7d9b_level0_row6\" class=\"row_heading level0 row6\" >137</th>\n",
       "      <td id=\"T_d7d9b_row6_col0\" class=\"data row6 col0\" >St. Lucia</td>\n",
       "      <td id=\"T_d7d9b_row6_col1\" class=\"data row6 col1\" >3</td>\n",
       "      <td id=\"T_d7d9b_row6_col2\" class=\"data row6 col2\" >0.200000</td>\n",
       "      <td id=\"T_d7d9b_row6_col3\" class=\"data row6 col3\" >CARIBBEAN</td>\n",
       "    </tr>\n",
       "    <tr>\n",
       "      <th id=\"T_d7d9b_level0_row7\" class=\"row_heading level0 row7\" >20</th>\n",
       "      <td id=\"T_d7d9b_row7_col0\" class=\"data row7 col0\" >Botswana</td>\n",
       "      <td id=\"T_d7d9b_row7_col1\" class=\"data row7 col1\" >3</td>\n",
       "      <td id=\"T_d7d9b_row7_col2\" class=\"data row7 col2\" >2.700000</td>\n",
       "      <td id=\"T_d7d9b_row7_col3\" class=\"data row7 col3\" >SOUTHERN AFRICA</td>\n",
       "    </tr>\n",
       "    <tr>\n",
       "      <th id=\"T_d7d9b_level0_row8\" class=\"row_heading level0 row8\" >164</th>\n",
       "      <td id=\"T_d7d9b_row8_col0\" class=\"data row8 col0\" >Zambia</td>\n",
       "      <td id=\"T_d7d9b_row8_col1\" class=\"data row8 col1\" >3</td>\n",
       "      <td id=\"T_d7d9b_row8_col2\" class=\"data row8 col2\" >20.200000</td>\n",
       "      <td id=\"T_d7d9b_row8_col3\" class=\"data row8 col3\" >EASTERN AFRICA</td>\n",
       "    </tr>\n",
       "    <tr>\n",
       "      <th id=\"T_d7d9b_level0_row9\" class=\"row_heading level0 row9\" >136</th>\n",
       "      <td id=\"T_d7d9b_row9_col0\" class=\"data row9 col0\" >St. Kitts and Nevis</td>\n",
       "      <td id=\"T_d7d9b_row9_col1\" class=\"data row9 col1\" >3</td>\n",
       "      <td id=\"T_d7d9b_row9_col2\" class=\"data row9 col2\" >0.100000</td>\n",
       "      <td id=\"T_d7d9b_row9_col3\" class=\"data row9 col3\" >CARIBBEAN</td>\n",
       "    </tr>\n",
       "  </tbody>\n",
       "</table>\n"
      ],
      "text/plain": [
       "<pandas.io.formats.style.Styler at 0x11ad4ea90>"
      ]
     },
     "metadata": {},
     "output_type": "display_data"
    }
   ],
   "source": [
    "#Sort input dataframe, pick bottom 10, and remove index\n",
    "bottom10_article_coverage = article_coverage_df.sort_values(\"article_count\", ascending = True)[0:10]\n",
    "#display the dataframe\n",
    "display(bottom10_article_coverage.style)"
   ]
  },
  {
   "cell_type": "markdown",
   "metadata": {},
   "source": [
    "# Analysis 3: Top 10 Countries by High Quality Article Count"
   ]
  },
  {
   "cell_type": "markdown",
   "metadata": {},
   "source": [
    "First, we have to move from article scores to whether or not the article is high quality. We can do this by assigning a boolean indicating whether or not the quality score maps to a high quality score (\"FA\", or \"GA\"). Then we can sum the number of high quality articles per country."
   ]
  },
  {
   "cell_type": "code",
   "execution_count": 20,
   "metadata": {},
   "outputs": [
    {
     "data": {
      "text/plain": [
       "{'B', 'C', 'FA', 'GA', 'Start', 'Stub', nan}"
      ]
     },
     "execution_count": 20,
     "metadata": {},
     "output_type": "execute_result"
    }
   ],
   "source": [
    "# find all article quality score possibility \n",
    "set(wp_politicians_by_country.article_quality.tolist())"
   ]
  },
  {
   "cell_type": "code",
   "execution_count": 23,
   "metadata": {},
   "outputs": [],
   "source": [
    "#init dict of high quality or low quality\n",
    "quality_dict = {'B' : False,\n",
    "                'C' : False,\n",
    "                'nan' : False,\n",
    "                'FA' : True,\n",
    "                'GA' : True,\n",
    "                'Start' : False,\n",
    "                'Stub' : False}\n",
    "\n",
    "wp_politicians_by_country['High_Quality'] = wp_politicians_by_country['article_quality'].map(quality_dict)"
   ]
  },
  {
   "cell_type": "markdown",
   "metadata": {},
   "source": [
    "Here we aggregate by country and sum high quality article count."
   ]
  },
  {
   "cell_type": "code",
   "execution_count": 31,
   "metadata": {},
   "outputs": [
    {
     "name": "stderr",
     "output_type": "stream",
     "text": [
      "/var/folders/_p/bxhqsmnd5w54bhnc_zblrb9h0000gq/T/ipykernel_35951/1985158791.py:1: FutureWarning: The provided callable <built-in function sum> is currently using SeriesGroupBy.sum. In a future version of pandas, the provided callable will be used directly. To keep current behavior pass the string \"sum\" instead.\n",
      "  highquality_count_by_country = wp_politicians_by_country.groupby('country').agg(high_quality_count = (\"High_Quality\", sum),\n"
     ]
    }
   ],
   "source": [
    "highquality_count_by_country = wp_politicians_by_country.groupby('country').agg(high_quality_count = (\"High_Quality\", sum),\n",
    "                                                                                population = ('population', 'mean'),\n",
    "                                                                                region = ('region', 'first')).reset_index()"
   ]
  },
  {
   "cell_type": "markdown",
   "metadata": {},
   "source": [
    "Next, we sort by high quality article count, select the countries with the top 10 high quality article count, and display the dataframe."
   ]
  },
  {
   "cell_type": "code",
   "execution_count": 38,
   "metadata": {},
   "outputs": [
    {
     "data": {
      "text/html": [
       "<style type=\"text/css\">\n",
       "</style>\n",
       "<table id=\"T_b433e\">\n",
       "  <thead>\n",
       "    <tr>\n",
       "      <th class=\"blank level0\" >&nbsp;</th>\n",
       "      <th id=\"T_b433e_level0_col0\" class=\"col_heading level0 col0\" >country</th>\n",
       "      <th id=\"T_b433e_level0_col1\" class=\"col_heading level0 col1\" >high_quality_count</th>\n",
       "      <th id=\"T_b433e_level0_col2\" class=\"col_heading level0 col2\" >population</th>\n",
       "      <th id=\"T_b433e_level0_col3\" class=\"col_heading level0 col3\" >region</th>\n",
       "    </tr>\n",
       "  </thead>\n",
       "  <tbody>\n",
       "    <tr>\n",
       "      <th id=\"T_b433e_level0_row0\" class=\"row_heading level0 row0\" >134</th>\n",
       "      <td id=\"T_b433e_row0_col0\" class=\"data row0 col0\" >Spain</td>\n",
       "      <td id=\"T_b433e_row0_col1\" class=\"data row0 col1\" >18</td>\n",
       "      <td id=\"T_b433e_row0_col2\" class=\"data row0 col2\" >48.300000</td>\n",
       "      <td id=\"T_b433e_row0_col3\" class=\"data row0 col3\" >SOUTHERN EUROPE</td>\n",
       "    </tr>\n",
       "    <tr>\n",
       "      <th id=\"T_b433e_level0_row1\" class=\"row_heading level0 row1\" >67</th>\n",
       "      <td id=\"T_b433e_row1_col0\" class=\"data row1 col0\" >Indonesia</td>\n",
       "      <td id=\"T_b433e_row1_col1\" class=\"data row1 col1\" >15</td>\n",
       "      <td id=\"T_b433e_row1_col2\" class=\"data row1 col2\" >278.700000</td>\n",
       "      <td id=\"T_b433e_row1_col3\" class=\"data row1 col3\" >SOUTHEAST ASIA</td>\n",
       "    </tr>\n",
       "    <tr>\n",
       "      <th id=\"T_b433e_level0_row2\" class=\"row_heading level0 row2\" >119</th>\n",
       "      <td id=\"T_b433e_row2_col0\" class=\"data row2 col0\" >Russia</td>\n",
       "      <td id=\"T_b433e_row2_col1\" class=\"data row2 col1\" >9</td>\n",
       "      <td id=\"T_b433e_row2_col2\" class=\"data row2 col2\" >146.900000</td>\n",
       "      <td id=\"T_b433e_row2_col3\" class=\"data row2 col3\" >EASTERN EUROPE</td>\n",
       "    </tr>\n",
       "    <tr>\n",
       "      <th id=\"T_b433e_level0_row3\" class=\"row_heading level0 row3\" >156</th>\n",
       "      <td id=\"T_b433e_row3_col0\" class=\"data row3 col0\" >Ukraine</td>\n",
       "      <td id=\"T_b433e_row3_col1\" class=\"data row3 col1\" >8</td>\n",
       "      <td id=\"T_b433e_row3_col2\" class=\"data row3 col2\" >36.700000</td>\n",
       "      <td id=\"T_b433e_row3_col3\" class=\"data row3 col3\" >EASTERN EUROPE</td>\n",
       "    </tr>\n",
       "    <tr>\n",
       "      <th id=\"T_b433e_level0_row4\" class=\"row_heading level0 row4\" >132</th>\n",
       "      <td id=\"T_b433e_row4_col0\" class=\"data row4 col0\" >South Africa</td>\n",
       "      <td id=\"T_b433e_row4_col1\" class=\"data row4 col1\" >8</td>\n",
       "      <td id=\"T_b433e_row4_col2\" class=\"data row4 col2\" >60.700000</td>\n",
       "      <td id=\"T_b433e_row4_col3\" class=\"data row4 col3\" >SOUTHERN AFRICA</td>\n",
       "    </tr>\n",
       "    <tr>\n",
       "      <th id=\"T_b433e_level0_row5\" class=\"row_heading level0 row5\" >1</th>\n",
       "      <td id=\"T_b433e_row5_col0\" class=\"data row5 col0\" >Albania</td>\n",
       "      <td id=\"T_b433e_row5_col1\" class=\"data row5 col1\" >7</td>\n",
       "      <td id=\"T_b433e_row5_col2\" class=\"data row5 col2\" >2.700000</td>\n",
       "      <td id=\"T_b433e_row5_col3\" class=\"data row5 col3\" >SOUTHERN EUROPE</td>\n",
       "    </tr>\n",
       "    <tr>\n",
       "      <th id=\"T_b433e_level0_row6\" class=\"row_heading level0 row6\" >116</th>\n",
       "      <td id=\"T_b433e_row6_col0\" class=\"data row6 col0\" >Poland</td>\n",
       "      <td id=\"T_b433e_row6_col1\" class=\"data row6 col1\" >7</td>\n",
       "      <td id=\"T_b433e_row6_col2\" class=\"data row6 col2\" >37.700000</td>\n",
       "      <td id=\"T_b433e_row6_col3\" class=\"data row6 col3\" >EASTERN EUROPE</td>\n",
       "    </tr>\n",
       "    <tr>\n",
       "      <th id=\"T_b433e_level0_row7\" class=\"row_heading level0 row7\" >141</th>\n",
       "      <td id=\"T_b433e_row7_col0\" class=\"data row7 col0\" >Switzerland</td>\n",
       "      <td id=\"T_b433e_row7_col1\" class=\"data row7 col1\" >7</td>\n",
       "      <td id=\"T_b433e_row7_col2\" class=\"data row7 col2\" >8.800000</td>\n",
       "      <td id=\"T_b433e_row7_col3\" class=\"data row7 col3\" >WESTERN EUROPE</td>\n",
       "    </tr>\n",
       "    <tr>\n",
       "      <th id=\"T_b433e_level0_row8\" class=\"row_heading level0 row8\" >69</th>\n",
       "      <td id=\"T_b433e_row8_col0\" class=\"data row8 col0\" >Iraq</td>\n",
       "      <td id=\"T_b433e_row8_col1\" class=\"data row8 col1\" >7</td>\n",
       "      <td id=\"T_b433e_row8_col2\" class=\"data row8 col2\" >45.500000</td>\n",
       "      <td id=\"T_b433e_row8_col3\" class=\"data row8 col3\" >WESTERN ASIA</td>\n",
       "    </tr>\n",
       "    <tr>\n",
       "      <th id=\"T_b433e_level0_row9\" class=\"row_heading level0 row9\" >21</th>\n",
       "      <td id=\"T_b433e_row9_col0\" class=\"data row9 col0\" >Brazil</td>\n",
       "      <td id=\"T_b433e_row9_col1\" class=\"data row9 col1\" >6</td>\n",
       "      <td id=\"T_b433e_row9_col2\" class=\"data row9 col2\" >204.000000</td>\n",
       "      <td id=\"T_b433e_row9_col3\" class=\"data row9 col3\" >SOUTH AMERICA</td>\n",
       "    </tr>\n",
       "  </tbody>\n",
       "</table>\n"
      ],
      "text/plain": [
       "<pandas.io.formats.style.Styler at 0x1128563d0>"
      ]
     },
     "metadata": {},
     "output_type": "display_data"
    }
   ],
   "source": [
    "#convert high quality count to a numeric\n",
    "highquality_count_by_country['high_quality_count'] = pd.to_numeric(highquality_count_by_country['high_quality_count'], errors='coerce')\n",
    "#Sort input dataframe, pick top 10, and remove index\n",
    "top10_highquality = highquality_count_by_country.sort_values(\"high_quality_count\", ascending = False)[0:10]\n",
    "#display the dataframe\n",
    "display(top10_highquality.style)"
   ]
  },
  {
   "cell_type": "markdown",
   "metadata": {},
   "source": [
    "# ANALYSIS 4: Bottom 10 Countries by High Quality Article Count"
   ]
  },
  {
   "cell_type": "code",
   "execution_count": 39,
   "metadata": {},
   "outputs": [
    {
     "data": {
      "text/html": [
       "<style type=\"text/css\">\n",
       "</style>\n",
       "<table id=\"T_ea6d6\">\n",
       "  <thead>\n",
       "    <tr>\n",
       "      <th class=\"blank level0\" >&nbsp;</th>\n",
       "      <th id=\"T_ea6d6_level0_col0\" class=\"col_heading level0 col0\" >country</th>\n",
       "      <th id=\"T_ea6d6_level0_col1\" class=\"col_heading level0 col1\" >high_quality_count</th>\n",
       "      <th id=\"T_ea6d6_level0_col2\" class=\"col_heading level0 col2\" >population</th>\n",
       "      <th id=\"T_ea6d6_level0_col3\" class=\"col_heading level0 col3\" >region</th>\n",
       "    </tr>\n",
       "  </thead>\n",
       "  <tbody>\n",
       "    <tr>\n",
       "      <th id=\"T_ea6d6_level0_row0\" class=\"row_heading level0 row0\" >4</th>\n",
       "      <td id=\"T_ea6d6_row0_col0\" class=\"data row0 col0\" >Antigua and Barbuda</td>\n",
       "      <td id=\"T_ea6d6_row0_col1\" class=\"data row0 col1\" >0</td>\n",
       "      <td id=\"T_ea6d6_row0_col2\" class=\"data row0 col2\" >0.100000</td>\n",
       "      <td id=\"T_ea6d6_row0_col3\" class=\"data row0 col3\" >CARIBBEAN</td>\n",
       "    </tr>\n",
       "    <tr>\n",
       "      <th id=\"T_ea6d6_level0_row1\" class=\"row_heading level0 row1\" >15</th>\n",
       "      <td id=\"T_ea6d6_row1_col0\" class=\"data row1 col0\" >Belize</td>\n",
       "      <td id=\"T_ea6d6_row1_col1\" class=\"data row1 col1\" >0</td>\n",
       "      <td id=\"T_ea6d6_row1_col2\" class=\"data row1 col2\" >0.500000</td>\n",
       "      <td id=\"T_ea6d6_row1_col3\" class=\"data row1 col3\" >CENTRAL AMERICA</td>\n",
       "    </tr>\n",
       "    <tr>\n",
       "      <th id=\"T_ea6d6_level0_row2\" class=\"row_heading level0 row2\" >12</th>\n",
       "      <td id=\"T_ea6d6_row2_col0\" class=\"data row2 col0\" >Barbados</td>\n",
       "      <td id=\"T_ea6d6_row2_col1\" class=\"data row2 col1\" >0</td>\n",
       "      <td id=\"T_ea6d6_row2_col2\" class=\"data row2 col2\" >0.300000</td>\n",
       "      <td id=\"T_ea6d6_row2_col3\" class=\"data row2 col3\" >CARIBBEAN</td>\n",
       "    </tr>\n",
       "    <tr>\n",
       "      <th id=\"T_ea6d6_level0_row3\" class=\"row_heading level0 row3\" >9</th>\n",
       "      <td id=\"T_ea6d6_row3_col0\" class=\"data row3 col0\" >Bahamas</td>\n",
       "      <td id=\"T_ea6d6_row3_col1\" class=\"data row3 col1\" >0</td>\n",
       "      <td id=\"T_ea6d6_row3_col2\" class=\"data row3 col2\" >0.400000</td>\n",
       "      <td id=\"T_ea6d6_row3_col3\" class=\"data row3 col3\" >CARIBBEAN</td>\n",
       "    </tr>\n",
       "    <tr>\n",
       "      <th id=\"T_ea6d6_level0_row4\" class=\"row_heading level0 row4\" >27</th>\n",
       "      <td id=\"T_ea6d6_row4_col0\" class=\"data row4 col0\" >Cape Verde</td>\n",
       "      <td id=\"T_ea6d6_row4_col1\" class=\"data row4 col1\" >0</td>\n",
       "      <td id=\"T_ea6d6_row4_col2\" class=\"data row4 col2\" >0.600000</td>\n",
       "      <td id=\"T_ea6d6_row4_col3\" class=\"data row4 col3\" >WESTERN AFRICA</td>\n",
       "    </tr>\n",
       "    <tr>\n",
       "      <th id=\"T_ea6d6_level0_row5\" class=\"row_heading level0 row5\" >20</th>\n",
       "      <td id=\"T_ea6d6_row5_col0\" class=\"data row5 col0\" >Botswana</td>\n",
       "      <td id=\"T_ea6d6_row5_col1\" class=\"data row5 col1\" >0</td>\n",
       "      <td id=\"T_ea6d6_row5_col2\" class=\"data row5 col2\" >2.700000</td>\n",
       "      <td id=\"T_ea6d6_row5_col3\" class=\"data row5 col3\" >SOUTHERN AFRICA</td>\n",
       "    </tr>\n",
       "    <tr>\n",
       "      <th id=\"T_ea6d6_level0_row6\" class=\"row_heading level0 row6\" >17</th>\n",
       "      <td id=\"T_ea6d6_row6_col0\" class=\"data row6 col0\" >Bhutan</td>\n",
       "      <td id=\"T_ea6d6_row6_col1\" class=\"data row6 col1\" >0</td>\n",
       "      <td id=\"T_ea6d6_row6_col2\" class=\"data row6 col2\" >0.800000</td>\n",
       "      <td id=\"T_ea6d6_row6_col3\" class=\"data row6 col3\" >SOUTH ASIA</td>\n",
       "    </tr>\n",
       "    <tr>\n",
       "      <th id=\"T_ea6d6_level0_row7\" class=\"row_heading level0 row7\" >16</th>\n",
       "      <td id=\"T_ea6d6_row7_col0\" class=\"data row7 col0\" >Benin</td>\n",
       "      <td id=\"T_ea6d6_row7_col1\" class=\"data row7 col1\" >0</td>\n",
       "      <td id=\"T_ea6d6_row7_col2\" class=\"data row7 col2\" >13.700000</td>\n",
       "      <td id=\"T_ea6d6_row7_col3\" class=\"data row7 col3\" >WESTERN AFRICA</td>\n",
       "    </tr>\n",
       "    <tr>\n",
       "      <th id=\"T_ea6d6_level0_row8\" class=\"row_heading level0 row8\" >31</th>\n",
       "      <td id=\"T_ea6d6_row8_col0\" class=\"data row8 col0\" >China</td>\n",
       "      <td id=\"T_ea6d6_row8_col1\" class=\"data row8 col1\" >0</td>\n",
       "      <td id=\"T_ea6d6_row8_col2\" class=\"data row8 col2\" >1411.300000</td>\n",
       "      <td id=\"T_ea6d6_row8_col3\" class=\"data row8 col3\" >EAST ASIA</td>\n",
       "    </tr>\n",
       "    <tr>\n",
       "      <th id=\"T_ea6d6_level0_row9\" class=\"row_heading level0 row9\" >29</th>\n",
       "      <td id=\"T_ea6d6_row9_col0\" class=\"data row9 col0\" >Chad</td>\n",
       "      <td id=\"T_ea6d6_row9_col1\" class=\"data row9 col1\" >0</td>\n",
       "      <td id=\"T_ea6d6_row9_col2\" class=\"data row9 col2\" >18.300000</td>\n",
       "      <td id=\"T_ea6d6_row9_col3\" class=\"data row9 col3\" >MIDDLE AFRICA</td>\n",
       "    </tr>\n",
       "  </tbody>\n",
       "</table>\n"
      ],
      "text/plain": [
       "<pandas.io.formats.style.Styler at 0x11bdb83d0>"
      ]
     },
     "metadata": {},
     "output_type": "display_data"
    }
   ],
   "source": [
    "#Sort input dataframe, pick top 10, and remove index\n",
    "bottom10_highquality = highquality_count_by_country.sort_values(\"high_quality_count\", ascending = True)[0:10]\n",
    "#display the dataframe\n",
    "display(bottom10_highquality.style)"
   ]
  },
  {
   "cell_type": "markdown",
   "metadata": {},
   "source": [
    "# ANALYSIS 5: List of Geographic Regions with Total Articles Per Capita"
   ]
  },
  {
   "cell_type": "markdown",
   "metadata": {},
   "source": [
    "First, we group by region and aggregate article count and population size."
   ]
  },
  {
   "cell_type": "code",
   "execution_count": 62,
   "metadata": {},
   "outputs": [],
   "source": [
    "#group by country and find number of articles\n",
    "article_coverage_df_region = wp_politicians_by_country.groupby('region').agg(article_count = ('region', 'size'),\n",
    "                                                                       population = ('population', 'sum')).reset_index()"
   ]
  },
  {
   "cell_type": "markdown",
   "metadata": {},
   "source": [
    "Next, we order by article_count, and display the table"
   ]
  },
  {
   "cell_type": "code",
   "execution_count": 63,
   "metadata": {},
   "outputs": [
    {
     "data": {
      "text/html": [
       "<style type=\"text/css\">\n",
       "</style>\n",
       "<table id=\"T_62e37\">\n",
       "  <thead>\n",
       "    <tr>\n",
       "      <th class=\"blank level0\" >&nbsp;</th>\n",
       "      <th id=\"T_62e37_level0_col0\" class=\"col_heading level0 col0\" >region</th>\n",
       "      <th id=\"T_62e37_level0_col1\" class=\"col_heading level0 col1\" >article_count</th>\n",
       "      <th id=\"T_62e37_level0_col2\" class=\"col_heading level0 col2\" >population</th>\n",
       "    </tr>\n",
       "  </thead>\n",
       "  <tbody>\n",
       "    <tr>\n",
       "      <th id=\"T_62e37_level0_row0\" class=\"row_heading level0 row0\" >14</th>\n",
       "      <td id=\"T_62e37_row0_col0\" class=\"data row0 col0\" >SOUTHERN EUROPE</td>\n",
       "      <td id=\"T_62e37_row0_col1\" class=\"data row0 col1\" >797</td>\n",
       "      <td id=\"T_62e37_row0_col2\" class=\"data row0 col2\" >17956.600000</td>\n",
       "    </tr>\n",
       "    <tr>\n",
       "      <th id=\"T_62e37_level0_row1\" class=\"row_heading level0 row1\" >5</th>\n",
       "      <td id=\"T_62e37_row1_col0\" class=\"data row1 col0\" >EASTERN EUROPE</td>\n",
       "      <td id=\"T_62e37_row1_col1\" class=\"data row1 col1\" >709</td>\n",
       "      <td id=\"T_62e37_row1_col2\" class=\"data row1 col2\" >29044.900000</td>\n",
       "    </tr>\n",
       "    <tr>\n",
       "      <th id=\"T_62e37_level0_row2\" class=\"row_heading level0 row2\" >11</th>\n",
       "      <td id=\"T_62e37_row2_col0\" class=\"data row2 col0\" >SOUTH ASIA</td>\n",
       "      <td id=\"T_62e37_row2_col1\" class=\"data row2 col1\" >670</td>\n",
       "      <td id=\"T_62e37_row2_col2\" class=\"data row2 col2\" >264161.600000</td>\n",
       "    </tr>\n",
       "    <tr>\n",
       "      <th id=\"T_62e37_level0_row3\" class=\"row_heading level0 row3\" >4</th>\n",
       "      <td id=\"T_62e37_row3_col0\" class=\"data row3 col0\" >EASTERN AFRICA</td>\n",
       "      <td id=\"T_62e37_row3_col1\" class=\"data row3 col1\" >665</td>\n",
       "      <td id=\"T_62e37_row3_col2\" class=\"data row3 col2\" >23941.200000</td>\n",
       "    </tr>\n",
       "    <tr>\n",
       "      <th id=\"T_62e37_level0_row4\" class=\"row_heading level0 row4\" >16</th>\n",
       "      <td id=\"T_62e37_row4_col0\" class=\"data row4 col0\" >WESTERN ASIA</td>\n",
       "      <td id=\"T_62e37_row4_col1\" class=\"data row4 col1\" >610</td>\n",
       "      <td id=\"T_62e37_row4_col2\" class=\"data row4 col2\" >13369.500000</td>\n",
       "    </tr>\n",
       "    <tr>\n",
       "      <th id=\"T_62e37_level0_row5\" class=\"row_heading level0 row5\" >10</th>\n",
       "      <td id=\"T_62e37_row5_col0\" class=\"data row5 col0\" >SOUTH AMERICA</td>\n",
       "      <td id=\"T_62e37_row5_col1\" class=\"data row5 col1\" >569</td>\n",
       "      <td id=\"T_62e37_row5_col2\" class=\"data row5 col2\" >34514.100000</td>\n",
       "    </tr>\n",
       "    <tr>\n",
       "      <th id=\"T_62e37_level0_row6\" class=\"row_heading level0 row6\" >15</th>\n",
       "      <td id=\"T_62e37_row6_col0\" class=\"data row6 col0\" >WESTERN AFRICA</td>\n",
       "      <td id=\"T_62e37_row6_col1\" class=\"data row6 col1\" >515</td>\n",
       "      <td id=\"T_62e37_row6_col2\" class=\"data row6 col2\" >58982.100000</td>\n",
       "    </tr>\n",
       "    <tr>\n",
       "      <th id=\"T_62e37_level0_row7\" class=\"row_heading level0 row7\" >17</th>\n",
       "      <td id=\"T_62e37_row7_col0\" class=\"data row7 col0\" >WESTERN EUROPE</td>\n",
       "      <td id=\"T_62e37_row7_col1\" class=\"data row7 col1\" >498</td>\n",
       "      <td id=\"T_62e37_row7_col2\" class=\"data row7 col2\" >18969.900000</td>\n",
       "    </tr>\n",
       "    <tr>\n",
       "      <th id=\"T_62e37_level0_row8\" class=\"row_heading level0 row8\" >12</th>\n",
       "      <td id=\"T_62e37_row8_col0\" class=\"data row8 col0\" >SOUTHEAST ASIA</td>\n",
       "      <td id=\"T_62e37_row8_col1\" class=\"data row8 col1\" >396</td>\n",
       "      <td id=\"T_62e37_row8_col2\" class=\"data row8 col2\" >45028.400000</td>\n",
       "    </tr>\n",
       "    <tr>\n",
       "      <th id=\"T_62e37_level0_row9\" class=\"row_heading level0 row9\" >7</th>\n",
       "      <td id=\"T_62e37_row9_col0\" class=\"data row9 col0\" >NORTHERN AFRICA</td>\n",
       "      <td id=\"T_62e37_row9_col1\" class=\"data row9 col1\" >302</td>\n",
       "      <td id=\"T_62e37_row9_col2\" class=\"data row9 col2\" >12173.900000</td>\n",
       "    </tr>\n",
       "    <tr>\n",
       "      <th id=\"T_62e37_level0_row10\" class=\"row_heading level0 row10\" >6</th>\n",
       "      <td id=\"T_62e37_row10_col0\" class=\"data row10 col0\" >MIDDLE AFRICA</td>\n",
       "      <td id=\"T_62e37_row10_col1\" class=\"data row10 col1\" >231</td>\n",
       "      <td id=\"T_62e37_row10_col2\" class=\"data row10 col2\" >9524.900000</td>\n",
       "    </tr>\n",
       "    <tr>\n",
       "      <th id=\"T_62e37_level0_row11\" class=\"row_heading level0 row11\" >0</th>\n",
       "      <td id=\"T_62e37_row11_col0\" class=\"data row11 col0\" >CARIBBEAN</td>\n",
       "      <td id=\"T_62e37_row11_col1\" class=\"data row11 col1\" >219</td>\n",
       "      <td id=\"T_62e37_row11_col2\" class=\"data row11 col2\" >1414.900000</td>\n",
       "    </tr>\n",
       "    <tr>\n",
       "      <th id=\"T_62e37_level0_row12\" class=\"row_heading level0 row12\" >8</th>\n",
       "      <td id=\"T_62e37_row12_col0\" class=\"data row12 col0\" >NORTHERN EUROPE</td>\n",
       "      <td id=\"T_62e37_row12_col1\" class=\"data row12 col1\" >191</td>\n",
       "      <td id=\"T_62e37_row12_col2\" class=\"data row12 col2\" >1162.100000</td>\n",
       "    </tr>\n",
       "    <tr>\n",
       "      <th id=\"T_62e37_level0_row13\" class=\"row_heading level0 row13\" >1</th>\n",
       "      <td id=\"T_62e37_row13_col0\" class=\"data row13 col0\" >CENTRAL AMERICA</td>\n",
       "      <td id=\"T_62e37_row13_col1\" class=\"data row13 col1\" >188</td>\n",
       "      <td id=\"T_62e37_row13_col2\" class=\"data row13 col2\" >1418.800000</td>\n",
       "    </tr>\n",
       "    <tr>\n",
       "      <th id=\"T_62e37_level0_row14\" class=\"row_heading level0 row14\" >3</th>\n",
       "      <td id=\"T_62e37_row14_col0\" class=\"data row14 col0\" >EAST ASIA</td>\n",
       "      <td id=\"T_62e37_row14_col1\" class=\"data row14 col1\" >152</td>\n",
       "      <td id=\"T_62e37_row14_col2\" class=\"data row14 col2\" >37412.800000</td>\n",
       "    </tr>\n",
       "    <tr>\n",
       "      <th id=\"T_62e37_level0_row15\" class=\"row_heading level0 row15\" >13</th>\n",
       "      <td id=\"T_62e37_row15_col0\" class=\"data row15 col0\" >SOUTHERN AFRICA</td>\n",
       "      <td id=\"T_62e37_row15_col1\" class=\"data row15 col1\" >123</td>\n",
       "      <td id=\"T_62e37_row15_col2\" class=\"data row15 col2\" >5954.300000</td>\n",
       "    </tr>\n",
       "    <tr>\n",
       "      <th id=\"T_62e37_level0_row16\" class=\"row_heading level0 row16\" >2</th>\n",
       "      <td id=\"T_62e37_row16_col0\" class=\"data row16 col0\" >CENTRAL ASIA</td>\n",
       "      <td id=\"T_62e37_row16_col1\" class=\"data row16 col1\" >106</td>\n",
       "      <td id=\"T_62e37_row16_col2\" class=\"data row16 col2\" >1983.600000</td>\n",
       "    </tr>\n",
       "    <tr>\n",
       "      <th id=\"T_62e37_level0_row17\" class=\"row_heading level0 row17\" >9</th>\n",
       "      <td id=\"T_62e37_row17_col0\" class=\"data row17 col0\" >OCEANIA</td>\n",
       "      <td id=\"T_62e37_row17_col1\" class=\"data row17 col1\" >72</td>\n",
       "      <td id=\"T_62e37_row17_col2\" class=\"data row17 col2\" >111.100000</td>\n",
       "    </tr>\n",
       "  </tbody>\n",
       "</table>\n"
      ],
      "text/plain": [
       "<pandas.io.formats.style.Styler at 0x11c66a280>"
      ]
     },
     "metadata": {},
     "output_type": "display_data"
    }
   ],
   "source": [
    "display(article_coverage_df_region.sort_values('article_count', ascending = False).style)"
   ]
  },
  {
   "cell_type": "markdown",
   "metadata": {},
   "source": [
    "# ANALYSIS 6: List of Geographic Regions with Total High Quality Articles Per Capita"
   ]
  },
  {
   "cell_type": "markdown",
   "metadata": {},
   "source": [
    "First, we aggregate high quality article count by region."
   ]
  },
  {
   "cell_type": "code",
   "execution_count": 65,
   "metadata": {},
   "outputs": [],
   "source": [
    "#group by country and find number of articles\n",
    "highquality_coverage_df_region = wp_politicians_by_country.groupby('region').agg(high_quality_count = ('High_Quality', 'sum'),\n",
    "                                                                                population = ('population', 'sum')).reset_index()"
   ]
  },
  {
   "cell_type": "markdown",
   "metadata": {},
   "source": [
    "Next, we order by high_quality_count, and display the table"
   ]
  },
  {
   "cell_type": "code",
   "execution_count": 66,
   "metadata": {},
   "outputs": [
    {
     "data": {
      "text/html": [
       "<style type=\"text/css\">\n",
       "</style>\n",
       "<table id=\"T_2d710\">\n",
       "  <thead>\n",
       "    <tr>\n",
       "      <th class=\"blank level0\" >&nbsp;</th>\n",
       "      <th id=\"T_2d710_level0_col0\" class=\"col_heading level0 col0\" >region</th>\n",
       "      <th id=\"T_2d710_level0_col1\" class=\"col_heading level0 col1\" >high_quality_count</th>\n",
       "      <th id=\"T_2d710_level0_col2\" class=\"col_heading level0 col2\" >population</th>\n",
       "    </tr>\n",
       "  </thead>\n",
       "  <tbody>\n",
       "    <tr>\n",
       "      <th id=\"T_2d710_level0_row0\" class=\"row_heading level0 row0\" >14</th>\n",
       "      <td id=\"T_2d710_row0_col0\" class=\"data row0 col0\" >SOUTHERN EUROPE</td>\n",
       "      <td id=\"T_2d710_row0_col1\" class=\"data row0 col1\" >53</td>\n",
       "      <td id=\"T_2d710_row0_col2\" class=\"data row0 col2\" >17956.600000</td>\n",
       "    </tr>\n",
       "    <tr>\n",
       "      <th id=\"T_2d710_level0_row1\" class=\"row_heading level0 row1\" >5</th>\n",
       "      <td id=\"T_2d710_row1_col0\" class=\"data row1 col0\" >EASTERN EUROPE</td>\n",
       "      <td id=\"T_2d710_row1_col1\" class=\"data row1 col1\" >38</td>\n",
       "      <td id=\"T_2d710_row1_col2\" class=\"data row1 col2\" >29044.900000</td>\n",
       "    </tr>\n",
       "    <tr>\n",
       "      <th id=\"T_2d710_level0_row2\" class=\"row_heading level0 row2\" >16</th>\n",
       "      <td id=\"T_2d710_row2_col0\" class=\"data row2 col0\" >WESTERN ASIA</td>\n",
       "      <td id=\"T_2d710_row2_col1\" class=\"data row2 col1\" >27</td>\n",
       "      <td id=\"T_2d710_row2_col2\" class=\"data row2 col2\" >13369.500000</td>\n",
       "    </tr>\n",
       "    <tr>\n",
       "      <th id=\"T_2d710_level0_row3\" class=\"row_heading level0 row3\" >12</th>\n",
       "      <td id=\"T_2d710_row3_col0\" class=\"data row3 col0\" >SOUTHEAST ASIA</td>\n",
       "      <td id=\"T_2d710_row3_col1\" class=\"data row3 col1\" >25</td>\n",
       "      <td id=\"T_2d710_row3_col2\" class=\"data row3 col2\" >45028.400000</td>\n",
       "    </tr>\n",
       "    <tr>\n",
       "      <th id=\"T_2d710_level0_row4\" class=\"row_heading level0 row4\" >17</th>\n",
       "      <td id=\"T_2d710_row4_col0\" class=\"data row4 col0\" >WESTERN EUROPE</td>\n",
       "      <td id=\"T_2d710_row4_col1\" class=\"data row4 col1\" >21</td>\n",
       "      <td id=\"T_2d710_row4_col2\" class=\"data row4 col2\" >18969.900000</td>\n",
       "    </tr>\n",
       "    <tr>\n",
       "      <th id=\"T_2d710_level0_row5\" class=\"row_heading level0 row5\" >11</th>\n",
       "      <td id=\"T_2d710_row5_col0\" class=\"data row5 col0\" >SOUTH ASIA</td>\n",
       "      <td id=\"T_2d710_row5_col1\" class=\"data row5 col1\" >21</td>\n",
       "      <td id=\"T_2d710_row5_col2\" class=\"data row5 col2\" >264161.600000</td>\n",
       "    </tr>\n",
       "    <tr>\n",
       "      <th id=\"T_2d710_level0_row6\" class=\"row_heading level0 row6\" >10</th>\n",
       "      <td id=\"T_2d710_row6_col0\" class=\"data row6 col0\" >SOUTH AMERICA</td>\n",
       "      <td id=\"T_2d710_row6_col1\" class=\"data row6 col1\" >19</td>\n",
       "      <td id=\"T_2d710_row6_col2\" class=\"data row6 col2\" >34514.100000</td>\n",
       "    </tr>\n",
       "    <tr>\n",
       "      <th id=\"T_2d710_level0_row7\" class=\"row_heading level0 row7\" >4</th>\n",
       "      <td id=\"T_2d710_row7_col0\" class=\"data row7 col0\" >EASTERN AFRICA</td>\n",
       "      <td id=\"T_2d710_row7_col1\" class=\"data row7 col1\" >17</td>\n",
       "      <td id=\"T_2d710_row7_col2\" class=\"data row7 col2\" >23941.200000</td>\n",
       "    </tr>\n",
       "    <tr>\n",
       "      <th id=\"T_2d710_level0_row8\" class=\"row_heading level0 row8\" >7</th>\n",
       "      <td id=\"T_2d710_row8_col0\" class=\"data row8 col0\" >NORTHERN AFRICA</td>\n",
       "      <td id=\"T_2d710_row8_col1\" class=\"data row8 col1\" >17</td>\n",
       "      <td id=\"T_2d710_row8_col2\" class=\"data row8 col2\" >12173.900000</td>\n",
       "    </tr>\n",
       "    <tr>\n",
       "      <th id=\"T_2d710_level0_row9\" class=\"row_heading level0 row9\" >15</th>\n",
       "      <td id=\"T_2d710_row9_col0\" class=\"data row9 col0\" >WESTERN AFRICA</td>\n",
       "      <td id=\"T_2d710_row9_col1\" class=\"data row9 col1\" >13</td>\n",
       "      <td id=\"T_2d710_row9_col2\" class=\"data row9 col2\" >58982.100000</td>\n",
       "    </tr>\n",
       "    <tr>\n",
       "      <th id=\"T_2d710_level0_row10\" class=\"row_heading level0 row10\" >1</th>\n",
       "      <td id=\"T_2d710_row10_col0\" class=\"data row10 col0\" >CENTRAL AMERICA</td>\n",
       "      <td id=\"T_2d710_row10_col1\" class=\"data row10 col1\" >10</td>\n",
       "      <td id=\"T_2d710_row10_col2\" class=\"data row10 col2\" >1418.800000</td>\n",
       "    </tr>\n",
       "    <tr>\n",
       "      <th id=\"T_2d710_level0_row11\" class=\"row_heading level0 row11\" >0</th>\n",
       "      <td id=\"T_2d710_row11_col0\" class=\"data row11 col0\" >CARIBBEAN</td>\n",
       "      <td id=\"T_2d710_row11_col1\" class=\"data row11 col1\" >9</td>\n",
       "      <td id=\"T_2d710_row11_col2\" class=\"data row11 col2\" >1414.900000</td>\n",
       "    </tr>\n",
       "    <tr>\n",
       "      <th id=\"T_2d710_level0_row12\" class=\"row_heading level0 row12\" >8</th>\n",
       "      <td id=\"T_2d710_row12_col0\" class=\"data row12 col0\" >NORTHERN EUROPE</td>\n",
       "      <td id=\"T_2d710_row12_col1\" class=\"data row12 col1\" >9</td>\n",
       "      <td id=\"T_2d710_row12_col2\" class=\"data row12 col2\" >1162.100000</td>\n",
       "    </tr>\n",
       "    <tr>\n",
       "      <th id=\"T_2d710_level0_row13\" class=\"row_heading level0 row13\" >13</th>\n",
       "      <td id=\"T_2d710_row13_col0\" class=\"data row13 col0\" >SOUTHERN AFRICA</td>\n",
       "      <td id=\"T_2d710_row13_col1\" class=\"data row13 col1\" >8</td>\n",
       "      <td id=\"T_2d710_row13_col2\" class=\"data row13 col2\" >5954.300000</td>\n",
       "    </tr>\n",
       "    <tr>\n",
       "      <th id=\"T_2d710_level0_row14\" class=\"row_heading level0 row14\" >6</th>\n",
       "      <td id=\"T_2d710_row14_col0\" class=\"data row14 col0\" >MIDDLE AFRICA</td>\n",
       "      <td id=\"T_2d710_row14_col1\" class=\"data row14 col1\" >8</td>\n",
       "      <td id=\"T_2d710_row14_col2\" class=\"data row14 col2\" >9524.900000</td>\n",
       "    </tr>\n",
       "    <tr>\n",
       "      <th id=\"T_2d710_level0_row15\" class=\"row_heading level0 row15\" >2</th>\n",
       "      <td id=\"T_2d710_row15_col0\" class=\"data row15 col0\" >CENTRAL ASIA</td>\n",
       "      <td id=\"T_2d710_row15_col1\" class=\"data row15 col1\" >5</td>\n",
       "      <td id=\"T_2d710_row15_col2\" class=\"data row15 col2\" >1983.600000</td>\n",
       "    </tr>\n",
       "    <tr>\n",
       "      <th id=\"T_2d710_level0_row16\" class=\"row_heading level0 row16\" >3</th>\n",
       "      <td id=\"T_2d710_row16_col0\" class=\"data row16 col0\" >EAST ASIA</td>\n",
       "      <td id=\"T_2d710_row16_col1\" class=\"data row16 col1\" >3</td>\n",
       "      <td id=\"T_2d710_row16_col2\" class=\"data row16 col2\" >37412.800000</td>\n",
       "    </tr>\n",
       "    <tr>\n",
       "      <th id=\"T_2d710_level0_row17\" class=\"row_heading level0 row17\" >9</th>\n",
       "      <td id=\"T_2d710_row17_col0\" class=\"data row17 col0\" >OCEANIA</td>\n",
       "      <td id=\"T_2d710_row17_col1\" class=\"data row17 col1\" >1</td>\n",
       "      <td id=\"T_2d710_row17_col2\" class=\"data row17 col2\" >111.100000</td>\n",
       "    </tr>\n",
       "  </tbody>\n",
       "</table>\n"
      ],
      "text/plain": [
       "<pandas.io.formats.style.Styler at 0x11c65c670>"
      ]
     },
     "metadata": {},
     "output_type": "display_data"
    }
   ],
   "source": [
    "display(highquality_coverage_df_region.sort_values('high_quality_count', ascending = False).style)"
   ]
  }
 ],
 "metadata": {
  "kernelspec": {
   "display_name": "dev",
   "language": "python",
   "name": "python3"
  },
  "language_info": {
   "codemirror_mode": {
    "name": "ipython",
    "version": 3
   },
   "file_extension": ".py",
   "mimetype": "text/x-python",
   "name": "python",
   "nbconvert_exporter": "python",
   "pygments_lexer": "ipython3",
   "version": "3.9.10"
  }
 },
 "nbformat": 4,
 "nbformat_minor": 2
}
