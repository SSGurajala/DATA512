{
 "cells": [
  {
   "cell_type": "markdown",
   "metadata": {},
   "source": [
    "# Data Analysis: Wikimedia Article Quality Data"
   ]
  },
  {
   "cell_type": "markdown",
   "metadata": {},
   "source": [
    "This notebook takes the final output from `data_wrangling_merge_csvs.ipynb` and performs required analyses on this file, outputting results in tabular format."
   ]
  },
  {
   "cell_type": "markdown",
   "metadata": {},
   "source": [
    "# First Step: Read in Files"
   ]
  },
  {
   "cell_type": "markdown",
   "metadata": {},
   "source": [
    "The following packages are required for this notebook:"
   ]
  },
  {
   "cell_type": "code",
   "execution_count": 24,
   "metadata": {},
   "outputs": [],
   "source": [
    "import pandas as pd\n",
    "from IPython.display import display"
   ]
  },
  {
   "cell_type": "markdown",
   "metadata": {},
   "source": [
    "Now we read in the file. We also read in the base population by country file for accurate counts of regional populations in analyses five and six."
   ]
  },
  {
   "cell_type": "code",
   "execution_count": 68,
   "metadata": {},
   "outputs": [],
   "source": [
    "wp_politicians_by_country = pd.read_csv(\"../../data/final/wp_politicians_by_country.csv\")\n",
    "population_by_country = pd.read_csv(\"../../data/intermediate/population_by_country_AUG.2024.csv\")"
   ]
  },
  {
   "cell_type": "markdown",
   "metadata": {},
   "source": [
    "# ANALYSIS 1: Top 10 Countries By Coverage"
   ]
  },
  {
   "cell_type": "markdown",
   "metadata": {},
   "source": [
    "First we group by country and find the total article count to identify coverage. Note that the population is 0 for some countries, which will cause faulty per capita calculation."
   ]
  },
  {
   "cell_type": "code",
   "execution_count": 40,
   "metadata": {},
   "outputs": [],
   "source": [
    "#group by country and find number of articles\n",
    "article_coverage_df = wp_politicians_by_country.groupby('country').agg(article_count = ('country', 'size'),\n",
    "                                                                       population = ('population', 'mean'),\n",
    "                                                                       region = ('region', 'first')).reset_index()\n",
    "#Per Capital Metrics\n",
    "article_coverage_df[\"Article Count Per Million People\"] = article_coverage_df['article_count'] / article_coverage_df['population']"
   ]
  },
  {
   "cell_type": "markdown",
   "metadata": {},
   "source": [
    "Next, we filter the coverage dataframe to find the top 10 article counts, and display the dataframe in the jupyter notebook"
   ]
  },
  {
   "cell_type": "code",
   "execution_count": 55,
   "metadata": {},
   "outputs": [
    {
     "data": {
      "text/html": [
       "<style type=\"text/css\">\n",
       "</style>\n",
       "<table id=\"T_f5e47\">\n",
       "  <thead>\n",
       "    <tr>\n",
       "      <th class=\"blank level0\" >&nbsp;</th>\n",
       "      <th id=\"T_f5e47_level0_col0\" class=\"col_heading level0 col0\" >country</th>\n",
       "      <th id=\"T_f5e47_level0_col1\" class=\"col_heading level0 col1\" >Article Count Per Million People</th>\n",
       "    </tr>\n",
       "  </thead>\n",
       "  <tbody>\n",
       "    <tr>\n",
       "      <th id=\"T_f5e47_level0_row0\" class=\"row_heading level0 row0\" >0</th>\n",
       "      <td id=\"T_f5e47_row0_col0\" class=\"data row0 col0\" >Tuvalu</td>\n",
       "      <td id=\"T_f5e47_row0_col1\" class=\"data row0 col1\" >inf</td>\n",
       "    </tr>\n",
       "    <tr>\n",
       "      <th id=\"T_f5e47_level0_row1\" class=\"row_heading level0 row1\" >1</th>\n",
       "      <td id=\"T_f5e47_row1_col0\" class=\"data row1 col0\" >Monaco</td>\n",
       "      <td id=\"T_f5e47_row1_col1\" class=\"data row1 col1\" >inf</td>\n",
       "    </tr>\n",
       "    <tr>\n",
       "      <th id=\"T_f5e47_level0_row2\" class=\"row_heading level0 row2\" >2</th>\n",
       "      <td id=\"T_f5e47_row2_col0\" class=\"data row2 col0\" >Antigua and Barbuda</td>\n",
       "      <td id=\"T_f5e47_row2_col1\" class=\"data row2 col1\" >330.000000</td>\n",
       "    </tr>\n",
       "    <tr>\n",
       "      <th id=\"T_f5e47_level0_row3\" class=\"row_heading level0 row3\" >3</th>\n",
       "      <td id=\"T_f5e47_row3_col0\" class=\"data row3 col0\" >Federated States of Micronesia</td>\n",
       "      <td id=\"T_f5e47_row3_col1\" class=\"data row3 col1\" >140.000000</td>\n",
       "    </tr>\n",
       "    <tr>\n",
       "      <th id=\"T_f5e47_level0_row4\" class=\"row_heading level0 row4\" >4</th>\n",
       "      <td id=\"T_f5e47_row4_col0\" class=\"data row4 col0\" >Marshall Islands</td>\n",
       "      <td id=\"T_f5e47_row4_col1\" class=\"data row4 col1\" >130.000000</td>\n",
       "    </tr>\n",
       "    <tr>\n",
       "      <th id=\"T_f5e47_level0_row5\" class=\"row_heading level0 row5\" >5</th>\n",
       "      <td id=\"T_f5e47_row5_col0\" class=\"data row5 col0\" >Tonga</td>\n",
       "      <td id=\"T_f5e47_row5_col1\" class=\"data row5 col1\" >100.000000</td>\n",
       "    </tr>\n",
       "    <tr>\n",
       "      <th id=\"T_f5e47_level0_row6\" class=\"row_heading level0 row6\" >6</th>\n",
       "      <td id=\"T_f5e47_row6_col0\" class=\"data row6 col0\" >Barbados</td>\n",
       "      <td id=\"T_f5e47_row6_col1\" class=\"data row6 col1\" >83.333333</td>\n",
       "    </tr>\n",
       "    <tr>\n",
       "      <th id=\"T_f5e47_level0_row7\" class=\"row_heading level0 row7\" >7</th>\n",
       "      <td id=\"T_f5e47_row7_col0\" class=\"data row7 col0\" >Montenegro</td>\n",
       "      <td id=\"T_f5e47_row7_col1\" class=\"data row7 col1\" >60.000000</td>\n",
       "    </tr>\n",
       "    <tr>\n",
       "      <th id=\"T_f5e47_level0_row8\" class=\"row_heading level0 row8\" >8</th>\n",
       "      <td id=\"T_f5e47_row8_col0\" class=\"data row8 col0\" >Seychelles</td>\n",
       "      <td id=\"T_f5e47_row8_col1\" class=\"data row8 col1\" >60.000000</td>\n",
       "    </tr>\n",
       "    <tr>\n",
       "      <th id=\"T_f5e47_level0_row9\" class=\"row_heading level0 row9\" >9</th>\n",
       "      <td id=\"T_f5e47_row9_col0\" class=\"data row9 col0\" >Maldives</td>\n",
       "      <td id=\"T_f5e47_row9_col1\" class=\"data row9 col1\" >55.000000</td>\n",
       "    </tr>\n",
       "  </tbody>\n",
       "</table>\n"
      ],
      "text/plain": [
       "<pandas.io.formats.style.Styler at 0x11401f3d0>"
      ]
     },
     "metadata": {},
     "output_type": "display_data"
    }
   ],
   "source": [
    "#Sort input dataframe, pick top 10, and remove index\n",
    "top10_article_coverage = article_coverage_df.sort_values(\"Article Count Per Million People\", ascending = False)[0:10].reset_index(drop = True)\n",
    "top10_article_coverage = top10_article_coverage.drop(['population', 'region', 'article_count'], axis = 1)\n",
    "#display the dataframe\n",
    "display(top10_article_coverage.style)"
   ]
  },
  {
   "cell_type": "markdown",
   "metadata": {},
   "source": [
    "# ANALYSIS 2: Bottom 10 Countries by Coverage"
   ]
  },
  {
   "cell_type": "markdown",
   "metadata": {},
   "source": [
    "We have already generated high quality article count by country. Therefore, we can use the previous dataframe, change the sort order, and display the dataframe."
   ]
  },
  {
   "cell_type": "code",
   "execution_count": 54,
   "metadata": {},
   "outputs": [
    {
     "data": {
      "text/html": [
       "<style type=\"text/css\">\n",
       "</style>\n",
       "<table id=\"T_7687e\">\n",
       "  <thead>\n",
       "    <tr>\n",
       "      <th class=\"blank level0\" >&nbsp;</th>\n",
       "      <th id=\"T_7687e_level0_col0\" class=\"col_heading level0 col0\" >country</th>\n",
       "      <th id=\"T_7687e_level0_col1\" class=\"col_heading level0 col1\" >Article Count Per Million People</th>\n",
       "    </tr>\n",
       "  </thead>\n",
       "  <tbody>\n",
       "    <tr>\n",
       "      <th id=\"T_7687e_level0_row0\" class=\"row_heading level0 row0\" >0</th>\n",
       "      <td id=\"T_7687e_row0_col0\" class=\"data row0 col0\" >China</td>\n",
       "      <td id=\"T_7687e_row0_col1\" class=\"data row0 col1\" >0.011337</td>\n",
       "    </tr>\n",
       "    <tr>\n",
       "      <th id=\"T_7687e_level0_row1\" class=\"row_heading level0 row1\" >1</th>\n",
       "      <td id=\"T_7687e_row1_col0\" class=\"data row1 col0\" >India</td>\n",
       "      <td id=\"T_7687e_row1_col1\" class=\"data row1 col1\" >0.105698</td>\n",
       "    </tr>\n",
       "    <tr>\n",
       "      <th id=\"T_7687e_level0_row2\" class=\"row_heading level0 row2\" >2</th>\n",
       "      <td id=\"T_7687e_row2_col0\" class=\"data row2 col0\" >Ghana</td>\n",
       "      <td id=\"T_7687e_row2_col1\" class=\"data row2 col1\" >0.117302</td>\n",
       "    </tr>\n",
       "    <tr>\n",
       "      <th id=\"T_7687e_level0_row3\" class=\"row_heading level0 row3\" >3</th>\n",
       "      <td id=\"T_7687e_row3_col0\" class=\"data row3 col0\" >Saudi Arabia</td>\n",
       "      <td id=\"T_7687e_row3_col1\" class=\"data row3 col1\" >0.135501</td>\n",
       "    </tr>\n",
       "    <tr>\n",
       "      <th id=\"T_7687e_level0_row4\" class=\"row_heading level0 row4\" >4</th>\n",
       "      <td id=\"T_7687e_row4_col0\" class=\"data row4 col0\" >Zambia</td>\n",
       "      <td id=\"T_7687e_row4_col1\" class=\"data row4 col1\" >0.148515</td>\n",
       "    </tr>\n",
       "    <tr>\n",
       "      <th id=\"T_7687e_level0_row5\" class=\"row_heading level0 row5\" >5</th>\n",
       "      <td id=\"T_7687e_row5_col0\" class=\"data row5 col0\" >Norway</td>\n",
       "      <td id=\"T_7687e_row5_col1\" class=\"data row5 col1\" >0.181818</td>\n",
       "    </tr>\n",
       "    <tr>\n",
       "      <th id=\"T_7687e_level0_row6\" class=\"row_heading level0 row6\" >6</th>\n",
       "      <td id=\"T_7687e_row6_col0\" class=\"data row6 col0\" >Israel</td>\n",
       "      <td id=\"T_7687e_row6_col1\" class=\"data row6 col1\" >0.204082</td>\n",
       "    </tr>\n",
       "    <tr>\n",
       "      <th id=\"T_7687e_level0_row7\" class=\"row_heading level0 row7\" >7</th>\n",
       "      <td id=\"T_7687e_row7_col0\" class=\"data row7 col0\" >Egypt</td>\n",
       "      <td id=\"T_7687e_row7_col1\" class=\"data row7 col1\" >0.304183</td>\n",
       "    </tr>\n",
       "    <tr>\n",
       "      <th id=\"T_7687e_level0_row8\" class=\"row_heading level0 row8\" >8</th>\n",
       "      <td id=\"T_7687e_row8_col0\" class=\"data row8 col0\" >Cote d'Ivoire</td>\n",
       "      <td id=\"T_7687e_row8_col1\" class=\"data row8 col1\" >0.323625</td>\n",
       "    </tr>\n",
       "    <tr>\n",
       "      <th id=\"T_7687e_level0_row9\" class=\"row_heading level0 row9\" >9</th>\n",
       "      <td id=\"T_7687e_row9_col0\" class=\"data row9 col0\" >Ethiopia</td>\n",
       "      <td id=\"T_7687e_row9_col1\" class=\"data row9 col1\" >0.347826</td>\n",
       "    </tr>\n",
       "  </tbody>\n",
       "</table>\n"
      ],
      "text/plain": [
       "<pandas.io.formats.style.Styler at 0x112ab66d0>"
      ]
     },
     "metadata": {},
     "output_type": "display_data"
    }
   ],
   "source": [
    "#Sort input dataframe, pick bottom 10, and remove index\n",
    "bottom10_article_coverage = article_coverage_df.sort_values(\"Article Count Per Million People\", ascending = True)[0:10].reset_index(drop = True)\n",
    "#drop unnecessary columns\n",
    "bottom10_article_coverage = bottom10_article_coverage.drop(['population', 'region', 'article_count'], axis = 1)\n",
    "#display the dataframe\n",
    "display(bottom10_article_coverage.style)"
   ]
  },
  {
   "cell_type": "markdown",
   "metadata": {},
   "source": [
    "# Analysis 3: Top 10 Countries by High Quality Article Count"
   ]
  },
  {
   "cell_type": "markdown",
   "metadata": {},
   "source": [
    "First, we have to move from article scores to whether or not the article is high quality. We can do this by assigning a boolean indicating whether or not the quality score maps to a high quality score (\"FA\", or \"GA\"). Then we can sum the number of high quality articles per country."
   ]
  },
  {
   "cell_type": "code",
   "execution_count": 43,
   "metadata": {},
   "outputs": [
    {
     "data": {
      "text/plain": [
       "{'B', 'C', 'FA', 'GA', 'Start', 'Stub', nan}"
      ]
     },
     "execution_count": 43,
     "metadata": {},
     "output_type": "execute_result"
    }
   ],
   "source": [
    "# find all article quality score possibility \n",
    "set(wp_politicians_by_country.article_quality.tolist())"
   ]
  },
  {
   "cell_type": "code",
   "execution_count": 90,
   "metadata": {},
   "outputs": [],
   "source": [
    "#init dict of high quality or low quality\n",
    "quality_dict = {'B' : False,\n",
    "                'C' : False,\n",
    "                'nan' : False,\n",
    "                'FA' : True,\n",
    "                'GA' : True,\n",
    "                'Start' : False,\n",
    "                'Stub' : False}\n",
    "\n",
    "wp_politicians_by_country['High_Quality'] = wp_politicians_by_country['article_quality'].map(quality_dict)"
   ]
  },
  {
   "cell_type": "markdown",
   "metadata": {},
   "source": [
    "Here we aggregate by country and sum high quality article count."
   ]
  },
  {
   "cell_type": "code",
   "execution_count": 91,
   "metadata": {},
   "outputs": [
    {
     "name": "stderr",
     "output_type": "stream",
     "text": [
      "/var/folders/_p/bxhqsmnd5w54bhnc_zblrb9h0000gq/T/ipykernel_43516/1985158791.py:1: FutureWarning: The provided callable <built-in function sum> is currently using SeriesGroupBy.sum. In a future version of pandas, the provided callable will be used directly. To keep current behavior pass the string \"sum\" instead.\n",
      "  highquality_count_by_country = wp_politicians_by_country.groupby('country').agg(high_quality_count = (\"High_Quality\", sum),\n"
     ]
    }
   ],
   "source": [
    "highquality_count_by_country = wp_politicians_by_country.groupby('country').agg(high_quality_count = (\"High_Quality\", sum),\n",
    "                                                                                population = ('population', 'mean'),\n",
    "                                                                                region = ('region', 'first')).reset_index()"
   ]
  },
  {
   "cell_type": "markdown",
   "metadata": {},
   "source": [
    "Next, we sort by high quality article count, generate the per capita metric, select the countries with the top 10 high quality article count, and display the dataframe."
   ]
  },
  {
   "cell_type": "code",
   "execution_count": 53,
   "metadata": {},
   "outputs": [
    {
     "data": {
      "text/html": [
       "<style type=\"text/css\">\n",
       "</style>\n",
       "<table id=\"T_ccc94\">\n",
       "  <thead>\n",
       "    <tr>\n",
       "      <th class=\"blank level0\" >&nbsp;</th>\n",
       "      <th id=\"T_ccc94_level0_col0\" class=\"col_heading level0 col0\" >country</th>\n",
       "      <th id=\"T_ccc94_level0_col1\" class=\"col_heading level0 col1\" >High Quality Count Per Million People</th>\n",
       "    </tr>\n",
       "  </thead>\n",
       "  <tbody>\n",
       "    <tr>\n",
       "      <th id=\"T_ccc94_level0_row0\" class=\"row_heading level0 row0\" >0</th>\n",
       "      <td id=\"T_ccc94_row0_col0\" class=\"data row0 col0\" >Montenegro</td>\n",
       "      <td id=\"T_ccc94_row0_col1\" class=\"data row0 col1\" >5.000000</td>\n",
       "    </tr>\n",
       "    <tr>\n",
       "      <th id=\"T_ccc94_level0_row1\" class=\"row_heading level0 row1\" >1</th>\n",
       "      <td id=\"T_ccc94_row1_col0\" class=\"data row1 col0\" >Luxembourg</td>\n",
       "      <td id=\"T_ccc94_row1_col1\" class=\"data row1 col1\" >2.857143</td>\n",
       "    </tr>\n",
       "    <tr>\n",
       "      <th id=\"T_ccc94_level0_row2\" class=\"row_heading level0 row2\" >2</th>\n",
       "      <td id=\"T_ccc94_row2_col0\" class=\"data row2 col0\" >Albania</td>\n",
       "      <td id=\"T_ccc94_row2_col1\" class=\"data row2 col1\" >2.592593</td>\n",
       "    </tr>\n",
       "    <tr>\n",
       "      <th id=\"T_ccc94_level0_row3\" class=\"row_heading level0 row3\" >3</th>\n",
       "      <td id=\"T_ccc94_row3_col0\" class=\"data row3 col0\" >Kosovo</td>\n",
       "      <td id=\"T_ccc94_row3_col1\" class=\"data row3 col1\" >2.352941</td>\n",
       "    </tr>\n",
       "    <tr>\n",
       "      <th id=\"T_ccc94_level0_row4\" class=\"row_heading level0 row4\" >4</th>\n",
       "      <td id=\"T_ccc94_row4_col0\" class=\"data row4 col0\" >Maldives</td>\n",
       "      <td id=\"T_ccc94_row4_col1\" class=\"data row4 col1\" >1.666667</td>\n",
       "    </tr>\n",
       "    <tr>\n",
       "      <th id=\"T_ccc94_level0_row5\" class=\"row_heading level0 row5\" >5</th>\n",
       "      <td id=\"T_ccc94_row5_col0\" class=\"data row5 col0\" >Lithuania</td>\n",
       "      <td id=\"T_ccc94_row5_col1\" class=\"data row5 col1\" >1.379310</td>\n",
       "    </tr>\n",
       "    <tr>\n",
       "      <th id=\"T_ccc94_level0_row6\" class=\"row_heading level0 row6\" >6</th>\n",
       "      <td id=\"T_ccc94_row6_col0\" class=\"data row6 col0\" >Croatia</td>\n",
       "      <td id=\"T_ccc94_row6_col1\" class=\"data row6 col1\" >1.315789</td>\n",
       "    </tr>\n",
       "    <tr>\n",
       "      <th id=\"T_ccc94_level0_row7\" class=\"row_heading level0 row7\" >7</th>\n",
       "      <td id=\"T_ccc94_row7_col0\" class=\"data row7 col0\" >Guyana</td>\n",
       "      <td id=\"T_ccc94_row7_col1\" class=\"data row7 col1\" >1.250000</td>\n",
       "    </tr>\n",
       "    <tr>\n",
       "      <th id=\"T_ccc94_level0_row8\" class=\"row_heading level0 row8\" >8</th>\n",
       "      <td id=\"T_ccc94_row8_col0\" class=\"data row8 col0\" >Palestinian Territory</td>\n",
       "      <td id=\"T_ccc94_row8_col1\" class=\"data row8 col1\" >1.090909</td>\n",
       "    </tr>\n",
       "    <tr>\n",
       "      <th id=\"T_ccc94_level0_row9\" class=\"row_heading level0 row9\" >9</th>\n",
       "      <td id=\"T_ccc94_row9_col0\" class=\"data row9 col0\" >Slovenia</td>\n",
       "      <td id=\"T_ccc94_row9_col1\" class=\"data row9 col1\" >0.952381</td>\n",
       "    </tr>\n",
       "  </tbody>\n",
       "</table>\n"
      ],
      "text/plain": [
       "<pandas.io.formats.style.Styler at 0x1123ddee0>"
      ]
     },
     "metadata": {},
     "output_type": "display_data"
    }
   ],
   "source": [
    "#convert high quality count to a numeric\n",
    "highquality_count_by_country['high_quality_count'] = pd.to_numeric(highquality_count_by_country['high_quality_count'], errors='coerce')\n",
    "#create per capita metric\n",
    "highquality_count_by_country['High Quality Count Per Million People'] = highquality_count_by_country['high_quality_count'] / highquality_count_by_country['population']\n",
    "#Sort input dataframe, pick top 10, and remove index\n",
    "top10_highquality = highquality_count_by_country.sort_values('High Quality Count Per Million People', ascending = False)[0:10].reset_index(drop = True)\n",
    "top10_highquality = top10_highquality.drop(['population', 'region', 'high_quality_count'], axis = 1)\n",
    "#display the dataframe\n",
    "display(top10_highquality.style)"
   ]
  },
  {
   "cell_type": "markdown",
   "metadata": {},
   "source": [
    "# ANALYSIS 4: Bottom 10 Countries by High Quality Article Count"
   ]
  },
  {
   "cell_type": "code",
   "execution_count": 52,
   "metadata": {},
   "outputs": [
    {
     "data": {
      "text/html": [
       "<style type=\"text/css\">\n",
       "</style>\n",
       "<table id=\"T_5e0a4\">\n",
       "  <thead>\n",
       "    <tr>\n",
       "      <th class=\"blank level0\" >&nbsp;</th>\n",
       "      <th id=\"T_5e0a4_level0_col0\" class=\"col_heading level0 col0\" >country</th>\n",
       "      <th id=\"T_5e0a4_level0_col1\" class=\"col_heading level0 col1\" >High Quality Count Per Million People</th>\n",
       "    </tr>\n",
       "  </thead>\n",
       "  <tbody>\n",
       "    <tr>\n",
       "      <th id=\"T_5e0a4_level0_row0\" class=\"row_heading level0 row0\" >0</th>\n",
       "      <td id=\"T_5e0a4_row0_col0\" class=\"data row0 col0\" >Montenegro</td>\n",
       "      <td id=\"T_5e0a4_row0_col1\" class=\"data row0 col1\" >5.000000</td>\n",
       "    </tr>\n",
       "    <tr>\n",
       "      <th id=\"T_5e0a4_level0_row1\" class=\"row_heading level0 row1\" >1</th>\n",
       "      <td id=\"T_5e0a4_row1_col0\" class=\"data row1 col0\" >Luxembourg</td>\n",
       "      <td id=\"T_5e0a4_row1_col1\" class=\"data row1 col1\" >2.857143</td>\n",
       "    </tr>\n",
       "    <tr>\n",
       "      <th id=\"T_5e0a4_level0_row2\" class=\"row_heading level0 row2\" >2</th>\n",
       "      <td id=\"T_5e0a4_row2_col0\" class=\"data row2 col0\" >Albania</td>\n",
       "      <td id=\"T_5e0a4_row2_col1\" class=\"data row2 col1\" >2.592593</td>\n",
       "    </tr>\n",
       "    <tr>\n",
       "      <th id=\"T_5e0a4_level0_row3\" class=\"row_heading level0 row3\" >3</th>\n",
       "      <td id=\"T_5e0a4_row3_col0\" class=\"data row3 col0\" >Kosovo</td>\n",
       "      <td id=\"T_5e0a4_row3_col1\" class=\"data row3 col1\" >2.352941</td>\n",
       "    </tr>\n",
       "    <tr>\n",
       "      <th id=\"T_5e0a4_level0_row4\" class=\"row_heading level0 row4\" >4</th>\n",
       "      <td id=\"T_5e0a4_row4_col0\" class=\"data row4 col0\" >Maldives</td>\n",
       "      <td id=\"T_5e0a4_row4_col1\" class=\"data row4 col1\" >1.666667</td>\n",
       "    </tr>\n",
       "    <tr>\n",
       "      <th id=\"T_5e0a4_level0_row5\" class=\"row_heading level0 row5\" >5</th>\n",
       "      <td id=\"T_5e0a4_row5_col0\" class=\"data row5 col0\" >Lithuania</td>\n",
       "      <td id=\"T_5e0a4_row5_col1\" class=\"data row5 col1\" >1.379310</td>\n",
       "    </tr>\n",
       "    <tr>\n",
       "      <th id=\"T_5e0a4_level0_row6\" class=\"row_heading level0 row6\" >6</th>\n",
       "      <td id=\"T_5e0a4_row6_col0\" class=\"data row6 col0\" >Croatia</td>\n",
       "      <td id=\"T_5e0a4_row6_col1\" class=\"data row6 col1\" >1.315789</td>\n",
       "    </tr>\n",
       "    <tr>\n",
       "      <th id=\"T_5e0a4_level0_row7\" class=\"row_heading level0 row7\" >7</th>\n",
       "      <td id=\"T_5e0a4_row7_col0\" class=\"data row7 col0\" >Guyana</td>\n",
       "      <td id=\"T_5e0a4_row7_col1\" class=\"data row7 col1\" >1.250000</td>\n",
       "    </tr>\n",
       "    <tr>\n",
       "      <th id=\"T_5e0a4_level0_row8\" class=\"row_heading level0 row8\" >8</th>\n",
       "      <td id=\"T_5e0a4_row8_col0\" class=\"data row8 col0\" >Palestinian Territory</td>\n",
       "      <td id=\"T_5e0a4_row8_col1\" class=\"data row8 col1\" >1.090909</td>\n",
       "    </tr>\n",
       "    <tr>\n",
       "      <th id=\"T_5e0a4_level0_row9\" class=\"row_heading level0 row9\" >9</th>\n",
       "      <td id=\"T_5e0a4_row9_col0\" class=\"data row9 col0\" >Slovenia</td>\n",
       "      <td id=\"T_5e0a4_row9_col1\" class=\"data row9 col1\" >0.952381</td>\n",
       "    </tr>\n",
       "  </tbody>\n",
       "</table>\n"
      ],
      "text/plain": [
       "<pandas.io.formats.style.Styler at 0x11401f1c0>"
      ]
     },
     "metadata": {},
     "output_type": "display_data"
    }
   ],
   "source": [
    "#Sort input dataframe, pick top 10, and remove index\n",
    "bottom10_highquality = highquality_count_by_country.sort_values('High Quality Count Per Million People', ascending = False)[0:10].reset_index(drop = True)\n",
    "bottom10_highquality = bottom10_highquality.drop(['population', 'region', 'high_quality_count'], axis = 1)\n",
    "#display the dataframe\n",
    "display(bottom10_highquality.style)"
   ]
  },
  {
   "cell_type": "markdown",
   "metadata": {},
   "source": [
    "# ANALYSIS 5: List of Geographic Regions with Total Articles Per Capita"
   ]
  },
  {
   "cell_type": "markdown",
   "metadata": {},
   "source": [
    "First, we group by region and aggregate article count and population size. We also merge with the population by country table to find accurate population estimates per region."
   ]
  },
  {
   "cell_type": "code",
   "execution_count": 93,
   "metadata": {},
   "outputs": [],
   "source": [
    "#group by country and find number of articles\n",
    "article_coverage_df_region = wp_politicians_by_country.groupby('region').agg(article_count = ('region', 'size')).reset_index()\n",
    "#merge to find accurate population counts\n",
    "population_by_country.columns = [\"region\", \"Population\"]\n",
    "article_coverage_df_region = pd.merge(article_coverage_df_region,\n",
    "                                      population_by_country,\n",
    "                                      how = \"left\",\n",
    "                                      on = \"region\")"
   ]
  },
  {
   "cell_type": "markdown",
   "metadata": {},
   "source": [
    "Next, we construct the per capita metric, order by it, and display the table"
   ]
  },
  {
   "cell_type": "code",
   "execution_count": 94,
   "metadata": {},
   "outputs": [
    {
     "data": {
      "text/html": [
       "<style type=\"text/css\">\n",
       "</style>\n",
       "<table id=\"T_2b1b1\">\n",
       "  <thead>\n",
       "    <tr>\n",
       "      <th class=\"blank level0\" >&nbsp;</th>\n",
       "      <th id=\"T_2b1b1_level0_col0\" class=\"col_heading level0 col0\" >region</th>\n",
       "      <th id=\"T_2b1b1_level0_col1\" class=\"col_heading level0 col1\" >Article Count Per Million People</th>\n",
       "    </tr>\n",
       "  </thead>\n",
       "  <tbody>\n",
       "    <tr>\n",
       "      <th id=\"T_2b1b1_level0_row0\" class=\"row_heading level0 row0\" >14</th>\n",
       "      <td id=\"T_2b1b1_row0_col0\" class=\"data row0 col0\" >SOUTHERN EUROPE</td>\n",
       "      <td id=\"T_2b1b1_row0_col1\" class=\"data row0 col1\" >5.243421</td>\n",
       "    </tr>\n",
       "    <tr>\n",
       "      <th id=\"T_2b1b1_level0_row1\" class=\"row_heading level0 row1\" >0</th>\n",
       "      <td id=\"T_2b1b1_row1_col0\" class=\"data row1 col0\" >CARIBBEAN</td>\n",
       "      <td id=\"T_2b1b1_row1_col1\" class=\"data row1 col1\" >4.977273</td>\n",
       "    </tr>\n",
       "    <tr>\n",
       "      <th id=\"T_2b1b1_level0_row2\" class=\"row_heading level0 row2\" >17</th>\n",
       "      <td id=\"T_2b1b1_row2_col0\" class=\"data row2 col0\" >WESTERN EUROPE</td>\n",
       "      <td id=\"T_2b1b1_row2_col1\" class=\"data row2 col1\" >2.502513</td>\n",
       "    </tr>\n",
       "    <tr>\n",
       "      <th id=\"T_2b1b1_level0_row3\" class=\"row_heading level0 row3\" >5</th>\n",
       "      <td id=\"T_2b1b1_row3_col0\" class=\"data row3 col0\" >EASTERN EUROPE</td>\n",
       "      <td id=\"T_2b1b1_row3_col1\" class=\"data row3 col1\" >2.487719</td>\n",
       "    </tr>\n",
       "    <tr>\n",
       "      <th id=\"T_2b1b1_level0_row4\" class=\"row_heading level0 row4\" >16</th>\n",
       "      <td id=\"T_2b1b1_row4_col0\" class=\"data row4 col0\" >WESTERN ASIA</td>\n",
       "      <td id=\"T_2b1b1_row4_col1\" class=\"data row4 col1\" >2.040134</td>\n",
       "    </tr>\n",
       "    <tr>\n",
       "      <th id=\"T_2b1b1_level0_row5\" class=\"row_heading level0 row5\" >8</th>\n",
       "      <td id=\"T_2b1b1_row5_col0\" class=\"data row5 col0\" >NORTHERN EUROPE</td>\n",
       "      <td id=\"T_2b1b1_row5_col1\" class=\"data row5 col1\" >1.768519</td>\n",
       "    </tr>\n",
       "    <tr>\n",
       "      <th id=\"T_2b1b1_level0_row6\" class=\"row_heading level0 row6\" >13</th>\n",
       "      <td id=\"T_2b1b1_row6_col0\" class=\"data row6 col0\" >SOUTHERN AFRICA</td>\n",
       "      <td id=\"T_2b1b1_row6_col1\" class=\"data row6 col1\" >1.757143</td>\n",
       "    </tr>\n",
       "    <tr>\n",
       "      <th id=\"T_2b1b1_level0_row7\" class=\"row_heading level0 row7\" >9</th>\n",
       "      <td id=\"T_2b1b1_row7_col0\" class=\"data row7 col0\" >OCEANIA</td>\n",
       "      <td id=\"T_2b1b1_row7_col1\" class=\"data row7 col1\" >1.600000</td>\n",
       "    </tr>\n",
       "    <tr>\n",
       "      <th id=\"T_2b1b1_level0_row8\" class=\"row_heading level0 row8\" >4</th>\n",
       "      <td id=\"T_2b1b1_row8_col0\" class=\"data row8 col0\" >EASTERN AFRICA</td>\n",
       "      <td id=\"T_2b1b1_row8_col1\" class=\"data row8 col1\" >1.376812</td>\n",
       "    </tr>\n",
       "    <tr>\n",
       "      <th id=\"T_2b1b1_level0_row9\" class=\"row_heading level0 row9\" >10</th>\n",
       "      <td id=\"T_2b1b1_row9_col0\" class=\"data row9 col0\" >SOUTH AMERICA</td>\n",
       "      <td id=\"T_2b1b1_row9_col1\" class=\"data row9 col1\" >1.335681</td>\n",
       "    </tr>\n",
       "    <tr>\n",
       "      <th id=\"T_2b1b1_level0_row10\" class=\"row_heading level0 row10\" >2</th>\n",
       "      <td id=\"T_2b1b1_row10_col0\" class=\"data row10 col0\" >CENTRAL ASIA</td>\n",
       "      <td id=\"T_2b1b1_row10_col1\" class=\"data row10 col1\" >1.325000</td>\n",
       "    </tr>\n",
       "    <tr>\n",
       "      <th id=\"T_2b1b1_level0_row11\" class=\"row_heading level0 row11\" >7</th>\n",
       "      <td id=\"T_2b1b1_row11_col0\" class=\"data row11 col0\" >NORTHERN AFRICA</td>\n",
       "      <td id=\"T_2b1b1_row11_col1\" class=\"data row11 col1\" >1.179688</td>\n",
       "    </tr>\n",
       "    <tr>\n",
       "      <th id=\"T_2b1b1_level0_row12\" class=\"row_heading level0 row12\" >15</th>\n",
       "      <td id=\"T_2b1b1_row12_col0\" class=\"data row12 col0\" >WESTERN AFRICA</td>\n",
       "      <td id=\"T_2b1b1_row12_col1\" class=\"data row12 col1\" >1.165158</td>\n",
       "    </tr>\n",
       "    <tr>\n",
       "      <th id=\"T_2b1b1_level0_row13\" class=\"row_heading level0 row13\" >6</th>\n",
       "      <td id=\"T_2b1b1_row13_col0\" class=\"data row13 col0\" >MIDDLE AFRICA</td>\n",
       "      <td id=\"T_2b1b1_row13_col1\" class=\"data row13 col1\" >1.143564</td>\n",
       "    </tr>\n",
       "    <tr>\n",
       "      <th id=\"T_2b1b1_level0_row14\" class=\"row_heading level0 row14\" >1</th>\n",
       "      <td id=\"T_2b1b1_row14_col0\" class=\"data row14 col0\" >CENTRAL AMERICA</td>\n",
       "      <td id=\"T_2b1b1_row14_col1\" class=\"data row14 col1\" >1.032967</td>\n",
       "    </tr>\n",
       "    <tr>\n",
       "      <th id=\"T_2b1b1_level0_row15\" class=\"row_heading level0 row15\" >12</th>\n",
       "      <td id=\"T_2b1b1_row15_col0\" class=\"data row15 col0\" >SOUTHEAST ASIA</td>\n",
       "      <td id=\"T_2b1b1_row15_col1\" class=\"data row15 col1\" >0.580645</td>\n",
       "    </tr>\n",
       "    <tr>\n",
       "      <th id=\"T_2b1b1_level0_row16\" class=\"row_heading level0 row16\" >11</th>\n",
       "      <td id=\"T_2b1b1_row16_col0\" class=\"data row16 col0\" >SOUTH ASIA</td>\n",
       "      <td id=\"T_2b1b1_row16_col1\" class=\"data row16 col1\" >0.330212</td>\n",
       "    </tr>\n",
       "    <tr>\n",
       "      <th id=\"T_2b1b1_level0_row17\" class=\"row_heading level0 row17\" >3</th>\n",
       "      <td id=\"T_2b1b1_row17_col0\" class=\"data row17 col0\" >EAST ASIA</td>\n",
       "      <td id=\"T_2b1b1_row17_col1\" class=\"data row17 col1\" >0.092233</td>\n",
       "    </tr>\n",
       "  </tbody>\n",
       "</table>\n"
      ],
      "text/plain": [
       "<pandas.io.formats.style.Styler at 0x115b92520>"
      ]
     },
     "metadata": {},
     "output_type": "display_data"
    }
   ],
   "source": [
    "#per capita metric\n",
    "article_coverage_df_region['Article Count Per Million People'] = article_coverage_df_region['article_count'] / article_coverage_df_region['Population']\n",
    "article_coverage_df_region = article_coverage_df_region.drop([\"Population\", \"article_count\"], axis = 1)\n",
    "article_coverage_df['rank'] = range(0, 166)\n",
    "#show table\n",
    "display(article_coverage_df_region.sort_values('Article Count Per Million People', ascending = False).style)"
   ]
  },
  {
   "cell_type": "markdown",
   "metadata": {},
   "source": [
    "# ANALYSIS 6: List of Geographic Regions with Total High Quality Articles Per Capita"
   ]
  },
  {
   "cell_type": "markdown",
   "metadata": {},
   "source": [
    "First, we aggregate high quality article count by region."
   ]
  },
  {
   "cell_type": "code",
   "execution_count": 96,
   "metadata": {},
   "outputs": [],
   "source": [
    "#group by country and find number of articles\n",
    "highquality_coverage_df_region = wp_politicians_by_country.groupby('region').agg(high_quality_count = ('High_Quality', 'sum')).reset_index()\n",
    "#merge to find accurate population counts\n",
    "highquality_coverage_df_region = pd.merge(highquality_coverage_df_region,\n",
    "                                            population_by_country,\n",
    "                                            how = \"left\",\n",
    "                                            on = \"region\")"
   ]
  },
  {
   "cell_type": "markdown",
   "metadata": {},
   "source": [
    "Next, we construct the per capita metric, order by it, and display the table"
   ]
  },
  {
   "cell_type": "code",
   "execution_count": null,
   "metadata": {},
   "outputs": [],
   "source": [
    "#per capita metric\n",
    "highquality_coverage_df_region['High Quality Count Per Million People'] = article_coverage_df_region['high_quality_count'] / article_coverage_df_region['Population']\n",
    "highquality_coverage_df_region = highquality_coverage_df_region.drop([\"Population\", \"high_quality_count\"], axis = 1)\n",
    "article_coverage_df['rank'] = range(0, 17)\n",
    "#show table\n",
    "display(article_coverage_df_region.sort_values('Article Count Per Million People', ascending = False).style)"
   ]
  },
  {
   "cell_type": "code",
   "execution_count": 66,
   "metadata": {},
   "outputs": [
    {
     "data": {
      "text/html": [
       "<style type=\"text/css\">\n",
       "</style>\n",
       "<table id=\"T_2d710\">\n",
       "  <thead>\n",
       "    <tr>\n",
       "      <th class=\"blank level0\" >&nbsp;</th>\n",
       "      <th id=\"T_2d710_level0_col0\" class=\"col_heading level0 col0\" >region</th>\n",
       "      <th id=\"T_2d710_level0_col1\" class=\"col_heading level0 col1\" >high_quality_count</th>\n",
       "      <th id=\"T_2d710_level0_col2\" class=\"col_heading level0 col2\" >population</th>\n",
       "    </tr>\n",
       "  </thead>\n",
       "  <tbody>\n",
       "    <tr>\n",
       "      <th id=\"T_2d710_level0_row0\" class=\"row_heading level0 row0\" >14</th>\n",
       "      <td id=\"T_2d710_row0_col0\" class=\"data row0 col0\" >SOUTHERN EUROPE</td>\n",
       "      <td id=\"T_2d710_row0_col1\" class=\"data row0 col1\" >53</td>\n",
       "      <td id=\"T_2d710_row0_col2\" class=\"data row0 col2\" >17956.600000</td>\n",
       "    </tr>\n",
       "    <tr>\n",
       "      <th id=\"T_2d710_level0_row1\" class=\"row_heading level0 row1\" >5</th>\n",
       "      <td id=\"T_2d710_row1_col0\" class=\"data row1 col0\" >EASTERN EUROPE</td>\n",
       "      <td id=\"T_2d710_row1_col1\" class=\"data row1 col1\" >38</td>\n",
       "      <td id=\"T_2d710_row1_col2\" class=\"data row1 col2\" >29044.900000</td>\n",
       "    </tr>\n",
       "    <tr>\n",
       "      <th id=\"T_2d710_level0_row2\" class=\"row_heading level0 row2\" >16</th>\n",
       "      <td id=\"T_2d710_row2_col0\" class=\"data row2 col0\" >WESTERN ASIA</td>\n",
       "      <td id=\"T_2d710_row2_col1\" class=\"data row2 col1\" >27</td>\n",
       "      <td id=\"T_2d710_row2_col2\" class=\"data row2 col2\" >13369.500000</td>\n",
       "    </tr>\n",
       "    <tr>\n",
       "      <th id=\"T_2d710_level0_row3\" class=\"row_heading level0 row3\" >12</th>\n",
       "      <td id=\"T_2d710_row3_col0\" class=\"data row3 col0\" >SOUTHEAST ASIA</td>\n",
       "      <td id=\"T_2d710_row3_col1\" class=\"data row3 col1\" >25</td>\n",
       "      <td id=\"T_2d710_row3_col2\" class=\"data row3 col2\" >45028.400000</td>\n",
       "    </tr>\n",
       "    <tr>\n",
       "      <th id=\"T_2d710_level0_row4\" class=\"row_heading level0 row4\" >17</th>\n",
       "      <td id=\"T_2d710_row4_col0\" class=\"data row4 col0\" >WESTERN EUROPE</td>\n",
       "      <td id=\"T_2d710_row4_col1\" class=\"data row4 col1\" >21</td>\n",
       "      <td id=\"T_2d710_row4_col2\" class=\"data row4 col2\" >18969.900000</td>\n",
       "    </tr>\n",
       "    <tr>\n",
       "      <th id=\"T_2d710_level0_row5\" class=\"row_heading level0 row5\" >11</th>\n",
       "      <td id=\"T_2d710_row5_col0\" class=\"data row5 col0\" >SOUTH ASIA</td>\n",
       "      <td id=\"T_2d710_row5_col1\" class=\"data row5 col1\" >21</td>\n",
       "      <td id=\"T_2d710_row5_col2\" class=\"data row5 col2\" >264161.600000</td>\n",
       "    </tr>\n",
       "    <tr>\n",
       "      <th id=\"T_2d710_level0_row6\" class=\"row_heading level0 row6\" >10</th>\n",
       "      <td id=\"T_2d710_row6_col0\" class=\"data row6 col0\" >SOUTH AMERICA</td>\n",
       "      <td id=\"T_2d710_row6_col1\" class=\"data row6 col1\" >19</td>\n",
       "      <td id=\"T_2d710_row6_col2\" class=\"data row6 col2\" >34514.100000</td>\n",
       "    </tr>\n",
       "    <tr>\n",
       "      <th id=\"T_2d710_level0_row7\" class=\"row_heading level0 row7\" >4</th>\n",
       "      <td id=\"T_2d710_row7_col0\" class=\"data row7 col0\" >EASTERN AFRICA</td>\n",
       "      <td id=\"T_2d710_row7_col1\" class=\"data row7 col1\" >17</td>\n",
       "      <td id=\"T_2d710_row7_col2\" class=\"data row7 col2\" >23941.200000</td>\n",
       "    </tr>\n",
       "    <tr>\n",
       "      <th id=\"T_2d710_level0_row8\" class=\"row_heading level0 row8\" >7</th>\n",
       "      <td id=\"T_2d710_row8_col0\" class=\"data row8 col0\" >NORTHERN AFRICA</td>\n",
       "      <td id=\"T_2d710_row8_col1\" class=\"data row8 col1\" >17</td>\n",
       "      <td id=\"T_2d710_row8_col2\" class=\"data row8 col2\" >12173.900000</td>\n",
       "    </tr>\n",
       "    <tr>\n",
       "      <th id=\"T_2d710_level0_row9\" class=\"row_heading level0 row9\" >15</th>\n",
       "      <td id=\"T_2d710_row9_col0\" class=\"data row9 col0\" >WESTERN AFRICA</td>\n",
       "      <td id=\"T_2d710_row9_col1\" class=\"data row9 col1\" >13</td>\n",
       "      <td id=\"T_2d710_row9_col2\" class=\"data row9 col2\" >58982.100000</td>\n",
       "    </tr>\n",
       "    <tr>\n",
       "      <th id=\"T_2d710_level0_row10\" class=\"row_heading level0 row10\" >1</th>\n",
       "      <td id=\"T_2d710_row10_col0\" class=\"data row10 col0\" >CENTRAL AMERICA</td>\n",
       "      <td id=\"T_2d710_row10_col1\" class=\"data row10 col1\" >10</td>\n",
       "      <td id=\"T_2d710_row10_col2\" class=\"data row10 col2\" >1418.800000</td>\n",
       "    </tr>\n",
       "    <tr>\n",
       "      <th id=\"T_2d710_level0_row11\" class=\"row_heading level0 row11\" >0</th>\n",
       "      <td id=\"T_2d710_row11_col0\" class=\"data row11 col0\" >CARIBBEAN</td>\n",
       "      <td id=\"T_2d710_row11_col1\" class=\"data row11 col1\" >9</td>\n",
       "      <td id=\"T_2d710_row11_col2\" class=\"data row11 col2\" >1414.900000</td>\n",
       "    </tr>\n",
       "    <tr>\n",
       "      <th id=\"T_2d710_level0_row12\" class=\"row_heading level0 row12\" >8</th>\n",
       "      <td id=\"T_2d710_row12_col0\" class=\"data row12 col0\" >NORTHERN EUROPE</td>\n",
       "      <td id=\"T_2d710_row12_col1\" class=\"data row12 col1\" >9</td>\n",
       "      <td id=\"T_2d710_row12_col2\" class=\"data row12 col2\" >1162.100000</td>\n",
       "    </tr>\n",
       "    <tr>\n",
       "      <th id=\"T_2d710_level0_row13\" class=\"row_heading level0 row13\" >13</th>\n",
       "      <td id=\"T_2d710_row13_col0\" class=\"data row13 col0\" >SOUTHERN AFRICA</td>\n",
       "      <td id=\"T_2d710_row13_col1\" class=\"data row13 col1\" >8</td>\n",
       "      <td id=\"T_2d710_row13_col2\" class=\"data row13 col2\" >5954.300000</td>\n",
       "    </tr>\n",
       "    <tr>\n",
       "      <th id=\"T_2d710_level0_row14\" class=\"row_heading level0 row14\" >6</th>\n",
       "      <td id=\"T_2d710_row14_col0\" class=\"data row14 col0\" >MIDDLE AFRICA</td>\n",
       "      <td id=\"T_2d710_row14_col1\" class=\"data row14 col1\" >8</td>\n",
       "      <td id=\"T_2d710_row14_col2\" class=\"data row14 col2\" >9524.900000</td>\n",
       "    </tr>\n",
       "    <tr>\n",
       "      <th id=\"T_2d710_level0_row15\" class=\"row_heading level0 row15\" >2</th>\n",
       "      <td id=\"T_2d710_row15_col0\" class=\"data row15 col0\" >CENTRAL ASIA</td>\n",
       "      <td id=\"T_2d710_row15_col1\" class=\"data row15 col1\" >5</td>\n",
       "      <td id=\"T_2d710_row15_col2\" class=\"data row15 col2\" >1983.600000</td>\n",
       "    </tr>\n",
       "    <tr>\n",
       "      <th id=\"T_2d710_level0_row16\" class=\"row_heading level0 row16\" >3</th>\n",
       "      <td id=\"T_2d710_row16_col0\" class=\"data row16 col0\" >EAST ASIA</td>\n",
       "      <td id=\"T_2d710_row16_col1\" class=\"data row16 col1\" >3</td>\n",
       "      <td id=\"T_2d710_row16_col2\" class=\"data row16 col2\" >37412.800000</td>\n",
       "    </tr>\n",
       "    <tr>\n",
       "      <th id=\"T_2d710_level0_row17\" class=\"row_heading level0 row17\" >9</th>\n",
       "      <td id=\"T_2d710_row17_col0\" class=\"data row17 col0\" >OCEANIA</td>\n",
       "      <td id=\"T_2d710_row17_col1\" class=\"data row17 col1\" >1</td>\n",
       "      <td id=\"T_2d710_row17_col2\" class=\"data row17 col2\" >111.100000</td>\n",
       "    </tr>\n",
       "  </tbody>\n",
       "</table>\n"
      ],
      "text/plain": [
       "<pandas.io.formats.style.Styler at 0x11c65c670>"
      ]
     },
     "metadata": {},
     "output_type": "display_data"
    }
   ],
   "source": [
    "display(highquality_coverage_df_region.sort_values('high_quality_count', ascending = False).style)"
   ]
  }
 ],
 "metadata": {
  "kernelspec": {
   "display_name": "dev",
   "language": "python",
   "name": "python3"
  },
  "language_info": {
   "codemirror_mode": {
    "name": "ipython",
    "version": 3
   },
   "file_extension": ".py",
   "mimetype": "text/x-python",
   "name": "python",
   "nbconvert_exporter": "python",
   "pygments_lexer": "ipython3",
   "version": "3.9.10"
  }
 },
 "nbformat": 4,
 "nbformat_minor": 2
}
