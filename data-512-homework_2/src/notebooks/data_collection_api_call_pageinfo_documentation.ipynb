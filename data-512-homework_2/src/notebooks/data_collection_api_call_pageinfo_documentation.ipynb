{
 "cells": [
  {
   "cell_type": "markdown",
   "metadata": {},
   "source": [
    "# Data Collection: Wikimedia PageInfo API Call"
   ]
  },
  {
   "cell_type": "markdown",
   "metadata": {},
   "source": [
    "The functionality to call the wikimedia API as a runnable script is found in src/libs/page_info_api_request.py python file. Ways to call the script from the command line with custom arguments is located in src/libs/run_scripts.sh. The following section of the notebook will walk through the specific steps in the script and explain them in detail."
   ]
  },
  {
   "cell_type": "markdown",
   "metadata": {},
   "source": [
    "## Step 1: Processing Command Line Arguments, Reading in Files, and Setting Up Logging"
   ]
  },
  {
   "cell_type": "markdown",
   "metadata": {},
   "source": [
    "The following imports are required for this script: "
   ]
  },
  {
   "cell_type": "code",
   "execution_count": null,
   "metadata": {},
   "outputs": [],
   "source": [
    "import json, urllib, time\n",
    "import pandas as pd\n",
    "import sys\n",
    "import logging\n",
    "import datetime\n",
    "import requests \n",
    "import os"
   ]
  },
  {
   "cell_type": "markdown",
   "metadata": {},
   "source": [
    "The call of this script from the command line generally takes the form of: \n",
    "\n",
    "bash\n",
    "```\n",
    "#move into scripts directory\n",
    "!cd {local_machine_scripts_directory}\n",
    "#Run api requests for a given access mode\n",
    "python3 page_info_api_request.py ${intermediate_data_directory} ${pol_csv_file_name} ${revid_out_file_name}\n",
    "```"
   ]
  },
  {
   "cell_type": "markdown",
   "metadata": {},
   "source": [
    "Where local machine scripts directory is the /src/libs/ absolute path on a local machine. This script will execute api calls against the Wikimedia page views api and write a csv file of the output.\n",
    "\n",
    "Inputs to this script include: \n",
    "- the intermediate local data directory within which the initial csv file is located, and the output csv file should be written\n",
    "- the csv file containing the article names to get data for using the API \n",
    "- the output file name which should be written\n",
    "\n",
    "Accordingly, the first few lines of the script include the following lines of code, meant to process these command line arguments, assign them to variables, read in necessary files, and set up logging so users of this code can track exactly which request succeed, fail, and how long the script takes to run."
   ]
  },
  {
   "cell_type": "code",
   "execution_count": null,
   "metadata": {},
   "outputs": [],
   "source": [
    "start = datetime.datetime.now()\n",
    "#set up logging \n",
    "logging.basicConfig(level=logging.INFO, \n",
    "                    format='%(asctime)s - %(levelname)s - %(message)s',\n",
    "                    filename=f\"../../logs/pageinfo_api_requests.log\")\n",
    "\n",
    "#assign access and output file path variables \n",
    "data_dir = str(sys.argv[1])\n",
    "csv_file_name = str(sys.argv[2])\n",
    "out_file_name = str(sys.argv[3])\n",
    "#join file paths\n",
    "out_file = os.path.join(data_dir, out_file_name)\n",
    "csv_file = pd.read_csv(os.path.join(data_dir, csv_file_name))"
   ]
  },
  {
   "cell_type": "markdown",
   "metadata": {},
   "source": [
    "## Step 2: Setting Constants Required for API Calls"
   ]
  },
  {
   "cell_type": "markdown",
   "metadata": {},
   "source": [
    "The next step of this script involves setting constant variables required for the rest of the script. This step is largely replicated from a sample code notebook available in the repo : \"wp_page_info_example.ipynb.\" More thorough attribution for this code can be found in the README.md in this repo. \n",
    "\n",
    "The constants set in this step include: the api request endpoint url, the agent parameter for the api headers, request headers, and a parameters template for the page info api request.\n",
    "Additionally, we set an assumed api call latency and set at throttle wait parameter so as to not overwhelm the endpoint with api calls. "
   ]
  },
  {
   "cell_type": "code",
   "execution_count": null,
   "metadata": {},
   "outputs": [],
   "source": [
    "###############\n",
    "###CONSTANTS###\n",
    "###############\n",
    "\n",
    "# The basic English Wikipedia API endpoint\n",
    "API_ENWIKIPEDIA_ENDPOINT = \"https://en.wikipedia.org/w/api.php\"\n",
    "API_HEADER_AGENT = 'User-Agent'\n",
    "\n",
    "# We'll assume that there needs to be some throttling for these requests - we should always be nice to a free data resource\n",
    "API_LATENCY_ASSUMED = 0.002       # Assuming roughly 2ms latency on the API and network\n",
    "API_THROTTLE_WAIT = (1.0/100.0)-API_LATENCY_ASSUMED\n",
    "\n",
    "# When making automated requests we should include something that is unique to the person making the request\n",
    "# This should include an email - your UW email would be good to put in there\n",
    "REQUEST_HEADERS = {\n",
    "    'User-Agent': '<sgura99@uw.edu>, University of Washington, MSDS DATA 512 - AUTUMN 2024'\n",
    "}\n",
    "\n",
    "# This template lists the basic parameters for making this\n",
    "PAGEINFO_PARAMS_TEMPLATE = {\n",
    "    \"action\": \"query\",\n",
    "    \"format\": \"json\",\n",
    "    \"titles\": \"\",           # to simplify this should be a single page title at a time\n",
    "    \"prop\": \"info\",\n",
    "    \"inprop\": \"\"\n",
    "}"
   ]
  },
  {
   "cell_type": "markdown",
   "metadata": {},
   "source": [
    "## Step 3: Initialize Functions Required for API Calls"
   ]
  },
  {
   "cell_type": "markdown",
   "metadata": {},
   "source": [
    "The following functions in the script define two major steps, and we will walk through them in detail."
   ]
  },
  {
   "cell_type": "markdown",
   "metadata": {},
   "source": [
    "### Step 3.1: Modularized API Call Function"
   ]
  },
  {
   "cell_type": "markdown",
   "metadata": {},
   "source": [
    "This function is a modularized version of the API Call. \n",
    "This function is also adapted, with some modifications, from the \"wp_page_info_example.ipynb\" in the src/notebooks subdirectory in this repo. \n",
    "\n",
    "Inputs to this function are: \n",
    "- the title of the article (dynamic input to the function)\n",
    "- the endpoint url (See API_ENWIKIPEDIA_ENDPOINT in Step 2)\n",
    "- the request template (See PAGEINFO_PARAMS_TEMPLATE in Step 2)\n",
    "- the headers for the api call (See REQUEST_HEADERS in Step 2)\n",
    "- an integer tracking the number of failed responses\n",
    "\n",
    "Output of this function is:\n",
    "- The json response from the call, and the updated failed response counter"
   ]
  },
  {
   "cell_type": "code",
   "execution_count": null,
   "metadata": {},
   "outputs": [],
   "source": [
    "def pageinfo_api_call(article_title = None, \n",
    "                      endpoint_url = API_ENWIKIPEDIA_ENDPOINT, \n",
    "                      request_template = PAGEINFO_PARAMS_TEMPLATE,\n",
    "                      headers = REQUEST_HEADERS,\n",
    "                      failed_response_counter=0):\n",
    "    #set article title if supplied\n",
    "    if article_title:\n",
    "        request_template['titles'] = article_title\n",
    "    #raise error for no article title\n",
    "    if not request_template['titles']:\n",
    "        raise Exception(\"Must supply an article title to make a pageinfo request.\")\n",
    "        logging.info(\"API Call failed because valid article title not provided\")\n",
    "\n",
    "    # make the request\n",
    "    try:\n",
    "        #throttling \n",
    "        if API_THROTTLE_WAIT > 0.0:\n",
    "            time.sleep(API_THROTTLE_WAIT)\n",
    "        #make response \n",
    "        response = requests.get(endpoint_url, headers=headers, params=request_template)\n",
    "        #raise status errors \n",
    "        response.raise_for_status()\n",
    "        #convert to json and log\n",
    "        json_response = response.json()\n",
    "        logging.info(f\"API Call succeeded for article titles {article_title}\")\n",
    "    except Exception as e:\n",
    "        #log error as needed \n",
    "        json_response = None\n",
    "        logging.info(f\"API Call Failed for article titles {article_title} due to error {e}\")\n",
    "        #update failed response counter\n",
    "        failed_response_counter += 1\n",
    "\n",
    "    return json_response, failed_response_counter"
   ]
  },
  {
   "cell_type": "markdown",
   "metadata": {},
   "source": [
    "The function operates through the following steps: \n",
    "1. Dynamically ingest the article title, either through the article_title input or the request template\n",
    "2. Try to make the request with an api throttler to limit requests, a get request using the endpoint url, headers, and the request template,\n",
    "and json serialization \n",
    "3. Catch potential errors in api call, raise error in logging, update the failed response counter, and set the response to none.\n",
    "5. Return the json response and the failed response counter."
   ]
  },
  {
   "cell_type": "markdown",
   "metadata": {},
   "source": [
    "### 3.2 Main Function to Execute Calls"
   ]
  },
  {
   "cell_type": "markdown",
   "metadata": {},
   "source": [
    "This main function runs api calls against the list of articles\n",
    "\n",
    "Inputs to this function are: \n",
    "- the csv file (set default. See csv_file in Step 1)\n",
    "- the output file (set default. See out_file in Step 1)\n",
    "- the start time\n",
    "\n",
    "This function has no output. It ends with writing the file out to a csv. "
   ]
  },
  {
   "cell_type": "code",
   "execution_count": null,
   "metadata": {},
   "outputs": [],
   "source": [
    "def main(csv_file = csv_file, \n",
    "         out_file = out_file, \n",
    "         start = start):\n",
    "    #initialize list of article titles\n",
    "    article_titles = csv_file.name\n",
    "    #empty list to append to\n",
    "    df_list = []\n",
    "    #failure case counters\n",
    "    failed_response_counter = 0\n",
    "    no_rev_id_counter = 0\n",
    "    #loop through article titles\n",
    "    for article in article_titles:\n",
    "        res, failed_response_counter = pageinfo_api_call(article, failed_response_counter=failed_response_counter)\n",
    "        key = list(res['query']['pages'].keys())[0]\n",
    "        value = res['query']['pages'][key]\n",
    "        if value and 'lastrevid' in value.keys():\n",
    "            df_list.append(pd.DataFrame({\"article_title\" : [value['title']],\n",
    "                                            \"revision_id\" : [value['lastrevid']]}))     \n",
    "        else:\n",
    "            logging.info(f\"No revision id available for article {value['title']}!\")    \n",
    "            no_rev_id_counter += 1       \n",
    "    #make df\n",
    "    df = pd.concat(df_list)\n",
    "    #write csv\n",
    "    df.to_csv(out_file, index = False)\n",
    "    #logging statements\n",
    "    logging.info(f\"A total of {failed_response_counter} API Calls failed to execute succesfully.\")\n",
    "    logging.info(f\"A total of {no_rev_id_counter} articles did not have a revision ID available for the given parameters.\")\n",
    "    end = datetime.datetime.now()\n",
    "    logging.info(f\"Run took {end - start} total seconds!\") \n",
    "\n",
    "#execute main function\n",
    "if __name__ == \"__main__\":\n",
    "    main()"
   ]
  },
  {
   "cell_type": "markdown",
   "metadata": {},
   "source": [
    "This function operates through the following steps: \n",
    "1. Set list of articles to be used in the page info calls \n",
    "2. Create an empty list to append results to, and set up failure case counters \n",
    "3. Loop through article titles and make the api call\n",
    "4. Parse results from each api call. Create a dataframe from each result and append it to the result list.\n",
    "5. Log articles with no revision id. \n",
    "6. Concatenate the results, write the csv.\n",
    "7. Log any required parameters, such as the failure case counters and the total run time."
   ]
  }
 ],
 "metadata": {
  "kernelspec": {
   "display_name": "dev",
   "language": "python",
   "name": "python3"
  },
  "language_info": {
   "codemirror_mode": {
    "name": "ipython",
    "version": 3
   },
   "file_extension": ".py",
   "mimetype": "text/x-python",
   "name": "python",
   "nbconvert_exporter": "python",
   "pygments_lexer": "ipython3",
   "version": "3.9.10"
  }
 },
 "nbformat": 4,
 "nbformat_minor": 2
}
