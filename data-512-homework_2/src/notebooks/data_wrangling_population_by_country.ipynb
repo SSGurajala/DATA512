{
 "cells": [
  {
   "cell_type": "markdown",
   "metadata": {},
   "source": [
    "# Data Wrangling: Population By Country"
   ]
  },
  {
   "cell_type": "markdown",
   "metadata": {},
   "source": [
    "The `population_by_country_AUG.2024.csv` requires some wrangling to properly work with. Specifically, the csv file contains regions which do not correspond with the desired subregions to be reported. This notebook goes through the steps required to extract and format the correct output from this csv file."
   ]
  },
  {
   "cell_type": "markdown",
   "metadata": {},
   "source": [
    "## Step 1: Read in CSV File"
   ]
  },
  {
   "cell_type": "markdown",
   "metadata": {},
   "source": [
    "The following packages are required to successfully run the code in this notebook:"
   ]
  },
  {
   "cell_type": "code",
   "execution_count": 1,
   "metadata": {},
   "outputs": [],
   "source": [
    "import pandas as pd"
   ]
  },
  {
   "cell_type": "markdown",
   "metadata": {},
   "source": [
    "Next we import the csv file in question:"
   ]
  },
  {
   "cell_type": "code",
   "execution_count": 7,
   "metadata": {},
   "outputs": [],
   "source": [
    "population_by_country = pd.read_csv(\"../../data/population_by_country_AUG.2024.csv\")"
   ]
  },
  {
   "cell_type": "markdown",
   "metadata": {},
   "source": [
    "## Step 2: Preserve Specific Sub Regions"
   ]
  },
  {
   "cell_type": "markdown",
   "metadata": {},
   "source": [
    "Here is a manually curated list of unspecific higher level regions from the csv file. We first remove these from the csv file."
   ]
  },
  {
   "cell_type": "code",
   "execution_count": 12,
   "metadata": {},
   "outputs": [],
   "source": [
    "unspecific_region_list = [\"WORLD\", \"AFRICA\", \"LATIN AMERICA AND THE CARIBBEAN\", \"ASIA\",\"EUROPE\"]"
   ]
  },
  {
   "cell_type": "code",
   "execution_count": 16,
   "metadata": {},
   "outputs": [],
   "source": [
    "population_by_country = population_by_country[~population_by_country.Geography.isin(unspecific_region_list)]"
   ]
  },
  {
   "cell_type": "markdown",
   "metadata": {},
   "source": [
    "## Step 3: Match Countries to Curated Sub Regions"
   ]
  },
  {
   "cell_type": "markdown",
   "metadata": {},
   "source": [
    "Leveraging the fact that the region names are uppercase, we use pandas functionality to match a \"Region\" field for each country by filling in the preceding upper case region name."
   ]
  },
  {
   "cell_type": "code",
   "execution_count": 19,
   "metadata": {},
   "outputs": [
    {
     "name": "stderr",
     "output_type": "stream",
     "text": [
      "/var/folders/_p/bxhqsmnd5w54bhnc_zblrb9h0000gq/T/ipykernel_31253/1307996125.py:1: SettingWithCopyWarning: \n",
      "A value is trying to be set on a copy of a slice from a DataFrame.\n",
      "Try using .loc[row_indexer,col_indexer] = value instead\n",
      "\n",
      "See the caveats in the documentation: https://pandas.pydata.org/pandas-docs/stable/user_guide/indexing.html#returning-a-view-versus-a-copy\n",
      "  population_by_country['Region'] = population_by_country['Geography'].where(population_by_country['Geography'].str.isupper()).ffill()\n"
     ]
    }
   ],
   "source": [
    "population_by_country['Region'] = population_by_country['Geography'].where(population_by_country['Geography'].str.isupper()).ffill()"
   ]
  },
  {
   "cell_type": "markdown",
   "metadata": {},
   "source": [
    "## Step 4: Remove Sub Regions From the Population by Country DataFrame"
   ]
  },
  {
   "cell_type": "markdown",
   "metadata": {},
   "source": [
    "Now that we have identified the relevant sub region for each country, we remove the sub regions from the dataframe, and write the curated data frame to a  CSV file."
   ]
  },
  {
   "cell_type": "code",
   "execution_count": 25,
   "metadata": {},
   "outputs": [],
   "source": [
    "population_by_country = population_by_country[~population_by_country.Geography.str.isupper()]\n",
    "population_by_country.to_csv(\"../../data/population_by_country_region_AUG.2024.csv\")"
   ]
  }
 ],
 "metadata": {
  "kernelspec": {
   "display_name": "dev",
   "language": "python",
   "name": "python3"
  },
  "language_info": {
   "codemirror_mode": {
    "name": "ipython",
    "version": 3
   },
   "file_extension": ".py",
   "mimetype": "text/x-python",
   "name": "python",
   "nbconvert_exporter": "python",
   "pygments_lexer": "ipython3",
   "version": "3.9.10"
  }
 },
 "nbformat": 4,
 "nbformat_minor": 2
}
