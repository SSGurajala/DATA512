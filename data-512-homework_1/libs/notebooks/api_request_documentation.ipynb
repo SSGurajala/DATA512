{
 "cells": [
  {
   "cell_type": "markdown",
   "metadata": {},
   "source": [
    "# Data Collection: API Calls"
   ]
  },
  {
   "cell_type": "markdown",
   "metadata": {},
   "source": [
    "The functionality to call the wikimedia API as a runnable script is found in libs/src/api_request.py python file. Thorough in line commenting is also available, along with ways to call the script from the command line with custom arguments in libs/src/run_scripts.sh. The following section of the notebook will walk through the specific steps in the script and explain them in detail."
   ]
  },
  {
   "cell_type": "markdown",
   "metadata": {},
   "source": [
    "## Step 1: Processing Command Line Arguments, Reading in Files, and Setting Up Logging"
   ]
  },
  {
   "cell_type": "markdown",
   "metadata": {},
   "source": [
    "Setting up dependencies for this script includes importing the following packages:"
   ]
  },
  {
   "cell_type": "code",
   "execution_count": null,
   "metadata": {},
   "outputs": [],
   "source": [
    "import json, urllib, time\n",
    "import pandas as pd\n",
    "import sys\n",
    "import logging\n",
    "import requests\n",
    "import datetime"
   ]
  },
  {
   "cell_type": "markdown",
   "metadata": {},
   "source": [
    "The call of this script from the command line generally takes the form of: \n",
    "\n",
    "bash\n",
    "```\n",
    "#move into scripts directory\n",
    "!cd {local_machine_scripts_directory}\n",
    "#Run api requests for a given access mode\n",
    "!python3 api_request.py {access mode} {local_machine_data_directory} {article_csv_file_name}\n",
    "```"
   ]
  },
  {
   "cell_type": "markdown",
   "metadata": {},
   "source": [
    "Where local machine scripts directory is the /libs/src/ absolute path on a local machine. This script will execute api calls and write a json output for a given access mode. \n",
    "\n",
    "Inputs to this script include: \n",
    "- access mode (desktop, mobile-web, or mobile-app)\n",
    "- a local data directory file path within which the json objects should be written, and the csv file with article title is located.\n",
    "- the file name of the csv file with article titles \n",
    "\n",
    "Accordingly, the first few lines of the script include the following lines of code, meant to process these command line arguments, assign them to variables, read in necessary files, and set up logging so users of this code can track exactly which request succeed, fail, and how long the script takes to run."
   ]
  },
  {
   "cell_type": "code",
   "execution_count": null,
   "metadata": {},
   "outputs": [],
   "source": [
    "#log start time for total time elapsed at end of script\n",
    "start = datetime.datetime.now()\n",
    "#assign access and output file path variables \n",
    "access = str(sys.argv[1])\n",
    "data_dir = str(sys.argv[2])\n",
    "csv_file_path = str(sys.argv[3])\n",
    "#read in dataframe\n",
    "rare_disease_df = pd.read_csv(data_dir + csv_file_path)\n",
    "#assign article titles \n",
    "article_titles = rare_disease_df.disease.tolist()\n",
    "#set up logging \n",
    "logging.basicConfig(level=logging.INFO, \n",
    "                    format='%(asctime)s - %(levelname)s - %(message)s',\n",
    "                    filename=f\"../../logs/api_requests_{access}.log\")"
   ]
  },
  {
   "cell_type": "markdown",
   "metadata": {},
   "source": [
    "Logging is output to a file \"api_requests_{access}.log\" in a directory named logs in the main repo where it is named dynamically based on the access mode specified in the command line call to the python script. "
   ]
  },
  {
   "cell_type": "markdown",
   "metadata": {},
   "source": [
    "## Step 2: Setting Constants Required for Function Calls"
   ]
  },
  {
   "cell_type": "markdown",
   "metadata": {},
   "source": [
    "The next step of this script involves setting constant variables required for the rest of the script. This step is largely replicated from a sample code notebook available in the repo : \"wp_article_views_example.ipynb\". More thorough attribution for this code can be found in the README.md in this repo. \n",
    "\n",
    "The constants set in this step include: the api request endpoint url, a parameterized string taht can be dynamically filled with the project name, access mode, agent, article, granularity, start, and end of the api call. \n",
    "Additionally, we set an assumed api call latency and set at throttle wait parameter so as to not overwhelm the endpoint with api calls. \n",
    "\n",
    "We initialize a parameter template dictionary we can dynamically fill with each specific api call, and will later use to form the api request per article param string. Finally, we set the output file path dynamically based on the access mode, the local data directory, and start and end time specified in the param template dictionary."
   ]
  },
  {
   "cell_type": "code",
   "execution_count": null,
   "metadata": {},
   "outputs": [],
   "source": [
    "# The REST API 'pageviews' URL - this is the common URL/endpoint for all 'pageviews' API requests\n",
    "API_REQUEST_PAGEVIEWS_ENDPOINT = 'https://wikimedia.org/api/rest_v1/metrics/pageviews/'\n",
    "\n",
    "# This is a parameterized string that specifies what kind of pageviews request we are going to make\n",
    "# In this case it will be a 'per-article' based request. The string is a format string so that we can\n",
    "# replace each parameter with an appropriate value before making the request\n",
    "API_REQUEST_PER_ARTICLE_PARAMS = 'per-article/{project}/{access}/{agent}/{article}/{granularity}/{start}/{end}'\n",
    "\n",
    "# The Pageviews API asks that we not exceed 100 requests per second, we add a small delay to each request\n",
    "API_LATENCY_ASSUMED = 0.002       # Assuming roughly 2ms latency on the API and network\n",
    "API_THROTTLE_WAIT = (1/100) - 0.002\n",
    "\n",
    "# When making a request to the Wikimedia API they ask that you include your email address which will allow them\n",
    "# to contact you if something happens - such as - your code exceeding rate limits - or some other error \n",
    "REQUEST_HEADERS = {\n",
    "    'User-Agent': 'sgura99@uw.edu, University of Washington, MSDS DATA 512 - AUTUMN 2024',\n",
    "}\n",
    "# This template is used to map parameter values into the API_REQUST_PER_ARTICLE_PARAMS portion of an API request. The dictionary has a\n",
    "# field/key for each of the required parameters. In the example, below, we only vary the article name, so the majority of the fields\n",
    "# can stay constant for each request. Of course, these values *could* be changed if necessary.\n",
    "ARTICLE_PAGEVIEWS_PARAMS_TEMPLATE = {\n",
    "    \"project\":     \"en.wikipedia.org\",\n",
    "    \"access\":      \"\",      # this should be changed for the different access types\n",
    "    \"agent\":       \"user\",\n",
    "    \"article\":     \"\",             # this value will be set/changed before each request\n",
    "    \"granularity\": \"monthly\",\n",
    "    \"start\":       \"2015070100\",   # start and end dates need to be set\n",
    "    \"end\":         \"2024093000\"    # this is likely the wrong end date\n",
    "}\n",
    "\n",
    "out_file_path = f\"{data_dir}/rare-disease_monthly_{access}_{ARTICLE_PAGEVIEWS_PARAMS_TEMPLATE['start']}-{ARTICLE_PAGEVIEWS_PARAMS_TEMPLATE['end']}.json\""
   ]
  },
  {
   "cell_type": "markdown",
   "metadata": {},
   "source": [
    "# Step 3: Initalize Functions Required for API Call"
   ]
  },
  {
   "cell_type": "markdown",
   "metadata": {},
   "source": [
    "The following functions in the script define three major steps, and we will walk through them one by one."
   ]
  },
  {
   "cell_type": "markdown",
   "metadata": {},
   "source": [
    "### Step 3.1: Formatting URLs for the API Call"
   ]
  },
  {
   "cell_type": "markdown",
   "metadata": {},
   "source": [
    "This function formats the url for the api call. \n",
    "\n",
    "Inputs to this fuction are: \n",
    "- the title of the article (dynamic input to the function)\n",
    "- the base endpoint url (See API_REQUEST_PAGEVIEWS_ENDPOINT in Step 2)\n",
    "- the endpoint params (See API_REQUEST_PER_ARTICLE_PARAMS in Step 2)\n",
    "- the request template (See ARTICLE_PAGEVIEWS_PARAMS_TEMPLATE in Step 2)\n",
    "- the access mode (dynamic input to the function: one of desktop, mobile-web, mobile-app, all-access)\n",
    "\n",
    "Output of this function is:\n",
    "- The formatted request URL for a given article and access mode, and the original article title\n",
    "\n"
   ]
  },
  {
   "cell_type": "code",
   "execution_count": null,
   "metadata": {},
   "outputs": [],
   "source": [
    "def format_url(article_title,\n",
    "                base_endpoint_url, \n",
    "                endpoint_params,\n",
    "                request_template,\n",
    "                access):\n",
    "    #replace article title in template\n",
    "    if article_title:\n",
    "        request_template['article'] = article_title\n",
    "    #check for template\n",
    "    if not request_template['article']:\n",
    "        raise Exception(\"Must supply an article title to make a pageviews request.\")\n",
    "\n",
    "    # Titles are supposed to have spaces replaced with \"_\" and be URL encoded\n",
    "    article_title_encoded = urllib.parse.quote(request_template['article'].replace(' ','_'), safe='')\n",
    "    request_template['article'] = article_title_encoded\n",
    "    request_template[\"access\"] = access\n",
    "    \n",
    "    # now, create a request URL by combining the endpoint_url with the parameters for the request\n",
    "    request_url = base_endpoint_url+endpoint_params.format(**request_template)\n",
    "    return article_title, request_url"
   ]
  },
  {
   "cell_type": "markdown",
   "metadata": {},
   "source": [
    "This function is also largely adapted from the \"wp_article_views_example.ipynb\" in the libs/notebooks subdirectory in this repo. \n",
    "\n",
    "The function operates through the following steps: \n",
    "1. Replace the article parameter in the request template, and check if the article title is supplied to the function.\n",
    "2. Encode the article title using urllib to make it parseable for the api call.\n",
    "3. Replace the article and access parameters of the request template with those provided to the function.\n",
    "4. Construct the full request url with the correctly encoded article title, the access parameter supplied to the function,\n",
    "and the presets of the request template.\n",
    "5. Return the full request url"
   ]
  },
  {
   "cell_type": "markdown",
   "metadata": {},
   "source": [
    "### 3.2: Modularized API Call Function"
   ]
  },
  {
   "cell_type": "markdown",
   "metadata": {},
   "source": [
    "This function modularizes the api call required to get page view results from the Wikimedia API.\n",
    "\n",
    "Inputs to this function are: \n",
    "- The formatted full request url, outputted from the format_url() function.\n",
    "- Request headers for the api call (See REQUEST_HEADERS in Step 2)\n",
    "\n",
    "Output of this function is:\n",
    "- The API call response post json serialization"
   ]
  },
  {
   "cell_type": "code",
   "execution_count": null,
   "metadata": {},
   "outputs": [],
   "source": [
    "def api_request(request_url, headers):\n",
    "    # Check for request URL \n",
    "    if not request_url:\n",
    "        raise Exception(\"Must supply a request URL to make an api request.\")\n",
    "    try:\n",
    "        #Time sleep the throttle wiat \n",
    "        time.sleep(API_THROTTLE_WAIT)\n",
    "        #make request\n",
    "        response = requests.get(request_url, headers = headers)\n",
    "        #raise error for bad response\n",
    "        response.raise_for_status() \n",
    "        #serialize\n",
    "        response = response.json()\n",
    "        logging.info(f\"Request for url {request_url} has succeeded!\")\n",
    "    except Exception as e:\n",
    "        response = None\n",
    "        logging.info(f\"Request for url {request_url} has failed with error {e}\")\n",
    "    return response"
   ]
  },
  {
   "cell_type": "markdown",
   "metadata": {},
   "source": [
    "This function operates through the following steps: \n",
    "1. Check if the request url is supplied to the function, and raise an error if not.\n",
    "2. Set the system to sleep with time.sleep(), according to the API_THROTTLE_WAIT parameter set in step 2.\n",
    "3. Raise an error for a bad API response \n",
    "4. Serialize the API Call into json format.\n",
    "5. If the steps thus far have been successful, log a successful call.\n",
    "6. If the steps thus far have not been successful, log an unsuccesful call and the error and set the response to equal None.\n",
    "7. Return the response."
   ]
  },
  {
   "cell_type": "markdown",
   "metadata": {},
   "source": [
    "### Step 3.3 Call the Previous Two Functions and Format the Output Results"
   ]
  },
  {
   "cell_type": "markdown",
   "metadata": {},
   "source": [
    "This function calls the previous two functions for a given article title, and formats the json output such that the \"access\" field is removed. \n",
    "\n",
    "Inputs to this function are: \n",
    "- the article title (dynamic input) for format_url()\n",
    "- base url endpoint for format_url (See Step 3.1)\n",
    "- endpoint params for format_url (See Step 3.1)\n",
    "- the request template for format_url (See Step 3.1)\n",
    "- the request headers for api_request (See Step 3.2)\n",
    "- The access mode (dynamic input) for format_url (See Step 3.1)\n",
    "\n",
    "Outputs of this function are:\n",
    "- the original article title\n",
    "- the json response"
   ]
  },
  {
   "cell_type": "code",
   "execution_count": null,
   "metadata": {},
   "outputs": [],
   "source": [
    "def get_page_views(article_title,\n",
    "                        base_endpoint_url, \n",
    "                        endpoint_params,\n",
    "                        request_template,\n",
    "                        headers,\n",
    "                        access):\n",
    "    #format URL \n",
    "    original_article_title, request_url = format_url(article_title, \n",
    "                             base_endpoint_url,\n",
    "                             endpoint_params,\n",
    "                             request_template,\n",
    "                             access)\n",
    "    #execute api request \n",
    "    response = api_request(request_url, headers)\n",
    "    #remove access key in response\n",
    "    try:\n",
    "        for iter in response['items']:\n",
    "            del iter['access']\n",
    "    except:\n",
    "        response = None\n",
    "    return original_article_title, response"
   ]
  },
  {
   "cell_type": "markdown",
   "metadata": {},
   "source": [
    "The function operates through the following steps: \n",
    "\n",
    "1. Employ the format_url() function to obtain the original article title, and the constructed request url for the api call\n",
    "2. Execute the api request using the api_request() function to obtain data from the api_request()\n",
    "3. Attempt to remove the `'access'` field in the `response['items']` json field. If this raises an error, the api call was unsucessful. Therefore, the response is set to None. \n",
    "4. Return the original article title, and the response data from the api call."
   ]
  },
  {
   "cell_type": "markdown",
   "metadata": {},
   "source": [
    "### Step 3.4 Main Function to Execute the Api Calls and Generate the Output"
   ]
  },
  {
   "cell_type": "markdown",
   "metadata": {},
   "source": [
    "This function pieces together all of the previous steps, and places them in a main function which is called at the end of the script. \n",
    "\n",
    "This function has no inputs or outputs, but simply executes the previous functions against the article titles from the csv file loaded in Step 1. \n",
    "\n",
    "It writes the output to the output file path set in Step 2."
   ]
  },
  {
   "cell_type": "code",
   "execution_count": null,
   "metadata": {},
   "outputs": [],
   "source": [
    "def main():\n",
    "    #initialize page view results\n",
    "    page_view_res = {}\n",
    "    responses = []\n",
    "    #execute page view calls and add to response list\n",
    "    for url in article_titles:\n",
    "        res = get_page_views(url,\n",
    "                            API_REQUEST_PAGEVIEWS_ENDPOINT,\n",
    "                            API_REQUEST_PER_ARTICLE_PARAMS,\n",
    "                            ARTICLE_PAGEVIEWS_PARAMS_TEMPLATE,\n",
    "                            REQUEST_HEADERS,\n",
    "                            access) \n",
    "        responses.append(res)\n",
    "    #parse response iterables for article titles and json objects\n",
    "    for response in responses:\n",
    "        title, json_obj = response\n",
    "        if json_obj:\n",
    "            page_view_res[title] = json_obj['items']\n",
    "    #log titles for which requests were unsuccesful\n",
    "    unsuccessful_requests = [article for article in article_titles if article not in page_view_res.keys()]\n",
    "    #Attempt page view call again for articles which weren't succesfully called in first loop\n",
    "    final_unsuccessful_requests = 0\n",
    "    for url in unsuccessful_requests:\n",
    "        title, retry_json_obj = get_page_views(url,\n",
    "                                                API_REQUEST_PAGEVIEWS_ENDPOINT,\n",
    "                                                API_REQUEST_PER_ARTICLE_PARAMS,\n",
    "                                                ARTICLE_PAGEVIEWS_PARAMS_TEMPLATE,\n",
    "                                                REQUEST_HEADERS,\n",
    "                                                access)\n",
    "        if retry_json_obj:\n",
    "            page_view_res[title] = retry_json_obj['items']\n",
    "        else:\n",
    "            #log number of unsuccessful requests after first retry\n",
    "            final_unsuccessful_requests += 1\n",
    "    #write file \n",
    "    with open(out_file_path, 'w') as file:\n",
    "        json.dump(page_view_res, file)\n",
    "    #log run time and the number of requests failed\n",
    "    logging.info(f\"Total Run took {datetime.datetime.now() - start} seconds! A total of {final_unsuccessful_requests} failed to complete.\")\n",
    "\n",
    "main()"
   ]
  },
  {
   "cell_type": "markdown",
   "metadata": {},
   "source": [
    "This function operates through the following steps: \n",
    "1. Initalize a page view result dictionary to track final output, and initialize a list to response objects.\n",
    "2. Loop through the article title list initialized in Step 1, and get page views for these titles. Append these get_page_view() function results to the result list.\n",
    "3. Parse the responses for each element of the result list, and unpackes the tuple output. Indexes the page view result dictionary with the original article title from this tuple as a key, and the json object `['items']` field as the request call data.\n",
    "4. Log article titles for which api requests were unsuccessful, and retry these titles one more time in cases where too many api calls were made at once. Add successful retries to the page view result dictionary.\n",
    "5. Track the number of finally unsuccessful requests after the retry.\n",
    "6. Write the page view result dictionary to the output file path set in Step 2.\n",
    "7. Log the final run time, and the number of failed requests."
   ]
  }
 ],
 "metadata": {
  "kernelspec": {
   "display_name": "dev",
   "language": "python",
   "name": "python3"
  },
  "language_info": {
   "codemirror_mode": {
    "name": "ipython",
    "version": 3
   },
   "file_extension": ".py",
   "mimetype": "text/x-python",
   "name": "python",
   "nbconvert_exporter": "python",
   "pygments_lexer": "ipython3",
   "version": "3.9.10"
  }
 },
 "nbformat": 4,
 "nbformat_minor": 2
}
