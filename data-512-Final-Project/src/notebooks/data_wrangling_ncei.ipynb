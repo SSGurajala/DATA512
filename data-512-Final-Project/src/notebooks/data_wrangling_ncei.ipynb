{
 "cells": [
  {
   "cell_type": "markdown",
   "metadata": {},
   "source": [
    "# DATA WRANGLING: NCEI Data Files\n",
    "\n",
    "## Sid Gurajala\n",
    "## 11/18/2024"
   ]
  },
  {
   "cell_type": "markdown",
   "metadata": {},
   "source": [
    "### Read In Files/Import Libraries"
   ]
  },
  {
   "cell_type": "code",
   "execution_count": 2,
   "metadata": {},
   "outputs": [],
   "source": [
    "import pandas as pd\n",
    "import os \n",
    "\n",
    "cwd = os.getcwd()\n",
    "data_dir = os.path.join(cwd, \"../../data/\")\n",
    "\n",
    "#join file paths\n",
    "drought_severity_file = os.path.join(data_dir, \"raw/NCEI_drought_severity_index_data_raw.csv\")\n",
    "precipitation_file = os.path.join(data_dir, \"raw/NCEI_precipitation_data_raw.csv\")\n",
    "temperature_file = os.path.join(data_dir, \"raw/NCEI_temperature_data_raw.csv\")\n",
    "#read in \n",
    "drought_severity_raw = pd.read_csv(drought_severity_file)\n",
    "precipitation_raw = pd.read_csv(precipitation_file)\n",
    "temperature_raw = pd.read_csv(temperature_file)"
   ]
  },
  {
   "cell_type": "markdown",
   "metadata": {},
   "source": [
    "### Filtering to Fire Season"
   ]
  },
  {
   "cell_type": "markdown",
   "metadata": {},
   "source": [
    "First we need to convert the date columns of our NCEI files to a pandas datetime object type."
   ]
  },
  {
   "cell_type": "code",
   "execution_count": 3,
   "metadata": {},
   "outputs": [],
   "source": [
    "#convert to datetime\n",
    "drought_severity_raw.Date = pd.to_datetime(drought_severity_raw.Date, format='%Y%m')\n",
    "temperature_raw.Date = pd.to_datetime(temperature_raw.Date, format='%Y%m')\n",
    "precipitation_raw.Date = pd.to_datetime(precipitation_raw.Date, format='%Y%m')"
   ]
  },
  {
   "cell_type": "markdown",
   "metadata": {},
   "source": [
    "Next we filter to just fire season, between may 1st and october 31st. "
   ]
  },
  {
   "cell_type": "code",
   "execution_count": 4,
   "metadata": {},
   "outputs": [],
   "source": [
    "#filter month\n",
    "drought_severity_filtered = drought_severity_raw[(drought_severity_raw.Date.dt.month) >= 5 & (drought_severity_raw.Date.dt.month <= 10)]\n",
    "temperature_filtered = temperature_raw[(temperature_raw.Date.dt.month) >= 5 & (temperature_raw.Date.dt.month <= 10)]\n",
    "precipitation_filtered = precipitation_raw[(precipitation_raw.Date.dt.month) >= 5 & (precipitation_raw.Date.dt.month <= 10)]"
   ]
  },
  {
   "cell_type": "markdown",
   "metadata": {},
   "source": [
    "### Aggregating the data by Year"
   ]
  },
  {
   "cell_type": "markdown",
   "metadata": {},
   "source": [
    "Next we need to extract the year from the date."
   ]
  },
  {
   "cell_type": "code",
   "execution_count": 5,
   "metadata": {},
   "outputs": [],
   "source": [
    "#Extract year\n",
    "drought_severity_filtered[\"Year\"] = drought_severity_filtered.Date.dt.year\n",
    "temperature_filtered[\"Year\"] = temperature_filtered.Date.dt.year\n",
    "precipitation_filtered[\"Year\"] = precipitation_filtered.Date.dt.year"
   ]
  },
  {
   "cell_type": "markdown",
   "metadata": {},
   "source": [
    "We next aggregate by year."
   ]
  },
  {
   "cell_type": "code",
   "execution_count": 6,
   "metadata": {},
   "outputs": [],
   "source": [
    "#aggregate by year\n",
    "drought_severity_aggregated = drought_severity_filtered.groupby(\"Year\").agg({\"Value\" : \"mean\"}).reset_index()\n",
    "temperature_aggregated = temperature_filtered.groupby(\"Year\").agg({\"Value\" : \"mean\"}).reset_index()\n",
    "precipitation_aggregated = precipitation_filtered.groupby(\"Year\").agg({\"Value\" : \"mean\"}).reset_index()"
   ]
  },
  {
   "cell_type": "markdown",
   "metadata": {},
   "source": [
    "### Joining the DataFrames"
   ]
  },
  {
   "cell_type": "markdown",
   "metadata": {},
   "source": [
    "We need to make the column names more explicit before joining."
   ]
  },
  {
   "cell_type": "code",
   "execution_count": 7,
   "metadata": {},
   "outputs": [],
   "source": [
    "#rename columns\n",
    "drought_severity_aggregated.columns = [\"Year\", \"avg_Drought_Severity_Index\"]\n",
    "temperature_aggregated.columns = [\"Year\", \"avg_Temperature\"]\n",
    "precipitation_aggregated.columns = [\"Year\", \"avg_Precipitation\"]"
   ]
  },
  {
   "cell_type": "markdown",
   "metadata": {},
   "source": [
    "Next we join by year."
   ]
  },
  {
   "cell_type": "code",
   "execution_count": 8,
   "metadata": {},
   "outputs": [],
   "source": [
    "ncei_final_df = drought_severity_aggregated.merge(\n",
    "                        temperature_aggregated, \n",
    "                        how = \"inner\", on = \"Year\"\n",
    "                        ).merge(\n",
    "                                precipitation_aggregated, \n",
    "                                how = \"inner\", on = \"Year\"\n",
    "                        )"
   ]
  },
  {
   "cell_type": "markdown",
   "metadata": {},
   "source": [
    "### Write Out Data"
   ]
  },
  {
   "cell_type": "markdown",
   "metadata": {},
   "source": [
    "Finally, we write out the file"
   ]
  },
  {
   "cell_type": "code",
   "execution_count": 9,
   "metadata": {},
   "outputs": [],
   "source": [
    "ncei_final_df.to_csv(os.path.join(data_dir, \"final/ncei_cleaned_final.csv\"), index = False)"
   ]
  }
 ],
 "metadata": {
  "kernelspec": {
   "display_name": "dev",
   "language": "python",
   "name": "python3"
  },
  "language_info": {
   "codemirror_mode": {
    "name": "ipython",
    "version": 3
   },
   "file_extension": ".py",
   "mimetype": "text/x-python",
   "name": "python",
   "nbconvert_exporter": "python",
   "pygments_lexer": "ipython3",
   "version": "3.9.10"
  }
 },
 "nbformat": 4,
 "nbformat_minor": 2
}
