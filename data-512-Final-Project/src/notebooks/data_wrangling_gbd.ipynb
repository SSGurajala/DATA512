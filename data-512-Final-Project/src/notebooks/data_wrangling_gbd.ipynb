{
 "cells": [
  {
   "cell_type": "markdown",
   "metadata": {},
   "source": [
    "# DATA WRANGLING: GLOBAL BURDEN OF DISEASE DATASET\n",
    "\n",
    "## Sid Gurajala\n",
    "## Last Updated: 11/18/2024"
   ]
  },
  {
   "cell_type": "markdown",
   "metadata": {},
   "source": [
    "### Read in Files/Import Libraries"
   ]
  },
  {
   "cell_type": "code",
   "execution_count": 3,
   "metadata": {},
   "outputs": [],
   "source": [
    "import pandas as pd\n",
    "import os \n",
    "\n",
    "cwd = os.getcwd()\n",
    "data_dir = os.path.join(cwd, \"../../data/\")\n",
    "#join file paths \n",
    "gbd_raw_file_path = os.path.join(data_dir, \"raw/IHME-GBD_2021_DATA-5c7069d7-1.csv\")\n",
    "#read in file\n",
    "gbd_raw = pd.read_csv(gbd_raw_file_path)"
   ]
  },
  {
   "cell_type": "markdown",
   "metadata": {},
   "source": [
    "### Filter Data to Number"
   ]
  },
  {
   "cell_type": "markdown",
   "metadata": {},
   "source": [
    "GBD data contains metric types, including the raw number, percentage, and rate. Here we hone in on the number type per metric."
   ]
  },
  {
   "cell_type": "code",
   "execution_count": 2,
   "metadata": {},
   "outputs": [],
   "source": [
    "gbd_filtered = gbd_raw[gbd_raw.metric == \"Number\"]"
   ]
  },
  {
   "cell_type": "markdown",
   "metadata": {},
   "source": [
    "### Aggregate by Year & Split Out Metric Types"
   ]
  },
  {
   "cell_type": "markdown",
   "metadata": {},
   "source": [
    "GBD Data presents separate entries per disease type per year. Here we just want the raw number over all disease types, which have been pre-filtered to chronic respiratory type diseases. Therefore we need to aggregate over diseases and produce a single number per year per metric."
   ]
  },
  {
   "cell_type": "code",
   "execution_count": 3,
   "metadata": {},
   "outputs": [],
   "source": [
    "gbd_aggregated = gbd_filtered.groupby([\"year\", \"measure\"]).agg({\"val\" : \"sum\"}).reset_index()"
   ]
  },
  {
   "cell_type": "code",
   "execution_count": 4,
   "metadata": {},
   "outputs": [],
   "source": [
    "#Split out each metric type\n",
    "gbd_aggregated_incidence = gbd_aggregated[gbd_aggregated['measure'] == \"Incidence\"]\n",
    "gbd_aggregated_death = gbd_aggregated[gbd_aggregated['measure'] == \"Deaths\"]"
   ]
  },
  {
   "cell_type": "markdown",
   "metadata": {},
   "source": [
    "### Write to CSVs"
   ]
  },
  {
   "cell_type": "markdown",
   "metadata": {},
   "source": [
    "Finally we write our wrangled data files out."
   ]
  },
  {
   "cell_type": "code",
   "execution_count": 5,
   "metadata": {},
   "outputs": [],
   "source": [
    "#Write to CSV \n",
    "gbd_aggregated_death.to_csv(os.path.join(data_dir, \"final/gbd_aggregated_death_metric_per_year.csv\"), index = False)\n",
    "gbd_aggregated_incidence.to_csv(os.path.join(data_dir, \"final/gbd_aggregated_incidence_metric_per_year.csv\"), index = False)"
   ]
  }
 ],
 "metadata": {
  "kernelspec": {
   "display_name": "dev",
   "language": "python",
   "name": "python3"
  },
  "language_info": {
   "codemirror_mode": {
    "name": "ipython",
    "version": 3
   },
   "file_extension": ".py",
   "mimetype": "text/x-python",
   "name": "python",
   "nbconvert_exporter": "python",
   "pygments_lexer": "ipython3",
   "version": "3.9.10"
  }
 },
 "nbformat": 4,
 "nbformat_minor": 2
}
